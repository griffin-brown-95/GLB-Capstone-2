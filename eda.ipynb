{
 "cells": [
  {
   "cell_type": "markdown",
   "metadata": {},
   "source": [
    "# EDA: Swire Coca - Cola\n",
    "## Griffin Brown\n",
    "9/4/24\n",
    "\n",
    "This file serves as my personal EDA for the IWC Work Orders."
   ]
  },
  {
   "cell_type": "markdown",
   "metadata": {},
   "source": [
    "## Data Loading"
   ]
  },
  {
   "cell_type": "code",
   "execution_count": 90,
   "metadata": {},
   "outputs": [],
   "source": [
    "import pandas as pd\n",
    "import matplotlib.pyplot as plt\n",
    "from datetime import datetime\n",
    "from google.cloud import storage\n",
    "import os\n",
    "from io import StringIO"
   ]
  },
  {
   "cell_type": "code",
   "execution_count": 91,
   "metadata": {},
   "outputs": [],
   "source": [
    "pd.set_option('display.max_rows', 500)\n",
    "pd.set_option('display.max_columns', 500)"
   ]
  },
  {
   "cell_type": "code",
   "execution_count": 92,
   "metadata": {},
   "outputs": [
    {
     "data": {
      "text/plain": [
       "'\\n\\nos.environ[\"GOOGLE_APPLICATION_CREDENTIALS\"] = \"swire-capstone-2024-0b05c28274b1.json\"\\n\\nSTORAGE_BUCKET = \\'swire-provided-data\\'\\n\\nstorage_client = storage.Client()\\nbucket = storage_client.bucket(STORAGE_BUCKET)\\n\\nfile_path_in_bucket = \\'IWC_Work_Orders_Extract.csv\\'\\n\\nblob = bucket.blob(file_path_in_bucket)\\n\\n# Download the file content as a string\\ncsv_data = blob.download_as_string()\\n\\n# Use StringIO to convert the string data to a file-like object for pandas\\ndf = pd.read_csv(StringIO(csv_data.decode(\\'utf-8\\')), low_memory=False)\\n\\n# Display the DataFrame or process it further\\nprint(df.head())\\n\\n'"
      ]
     },
     "execution_count": 92,
     "metadata": {},
     "output_type": "execute_result"
    }
   ],
   "source": [
    "'''\n",
    "\n",
    "os.environ[\"GOOGLE_APPLICATION_CREDENTIALS\"] = \"swire-capstone-2024-0b05c28274b1.json\"\n",
    "\n",
    "STORAGE_BUCKET = 'swire-provided-data'\n",
    "\n",
    "storage_client = storage.Client()\n",
    "bucket = storage_client.bucket(STORAGE_BUCKET)\n",
    "\n",
    "file_path_in_bucket = 'IWC_Work_Orders_Extract.csv'\n",
    "\n",
    "blob = bucket.blob(file_path_in_bucket)\n",
    "\n",
    "# Download the file content as a string\n",
    "csv_data = blob.download_as_string()\n",
    "\n",
    "# Use StringIO to convert the string data to a file-like object for pandas\n",
    "df = pd.read_csv(StringIO(csv_data.decode('utf-8')), low_memory=False)\n",
    "\n",
    "# Display the DataFrame or process it further\n",
    "print(df.head())\n",
    "\n",
    "'''"
   ]
  },
  {
   "cell_type": "code",
   "execution_count": 93,
   "metadata": {},
   "outputs": [
    {
     "data": {
      "text/html": [
       "<div>\n",
       "<style scoped>\n",
       "    .dataframe tbody tr th:only-of-type {\n",
       "        vertical-align: middle;\n",
       "    }\n",
       "\n",
       "    .dataframe tbody tr th {\n",
       "        vertical-align: top;\n",
       "    }\n",
       "\n",
       "    .dataframe thead th {\n",
       "        text-align: right;\n",
       "    }\n",
       "</style>\n",
       "<table border=\"1\" class=\"dataframe\">\n",
       "  <thead>\n",
       "    <tr style=\"text-align: right;\">\n",
       "      <th></th>\n",
       "      <th>ORDER_ID</th>\n",
       "      <th>PLANT_ID</th>\n",
       "      <th>PRODUCTION_LOCATION</th>\n",
       "      <th>EXECUTION_START_DATE</th>\n",
       "      <th>EXECUTION_FINISH_DATE</th>\n",
       "      <th>ACTUAL_START_TIME</th>\n",
       "      <th>ACTUAL_FINISH_TIME</th>\n",
       "      <th>ACTUAL_WORK_IN_MINUTES</th>\n",
       "      <th>MAINTENANCE_PLAN</th>\n",
       "      <th>MAINTENANCE_ITEM</th>\n",
       "      <th>MAINTENANCE_ACTIVITY_TYPE</th>\n",
       "      <th>ORDER_DESCRIPTION</th>\n",
       "      <th>MAINTENANCE_TYPE_DESCRIPTION</th>\n",
       "      <th>FUNCTIONAL_LOC</th>\n",
       "      <th>FUNCTIONAL_AREA_NODE_1_MODIFIED</th>\n",
       "      <th>FUNCTIONAL_AREA_NODE_2_MODIFIED</th>\n",
       "      <th>FUNCTIONAL_AREA_NODE_3_MODIFIED</th>\n",
       "      <th>FUNCTIONAL_AREA_NODE_4_MODIFIED</th>\n",
       "      <th>FUNCTIONAL_AREA_NODE_5_MODIFIED</th>\n",
       "      <th>EQUIPMENT_ID</th>\n",
       "      <th>EQUIPMENT_DESC</th>\n",
       "      <th>EQUIP_CAT_DESC</th>\n",
       "      <th>EQUIP_START_UP_DATE</th>\n",
       "      <th>EQUIP_VALID_FROM</th>\n",
       "      <th>EQUIP_VALID_TO</th>\n",
       "    </tr>\n",
       "  </thead>\n",
       "  <tbody>\n",
       "    <tr>\n",
       "      <th>0</th>\n",
       "      <td>705642457</td>\n",
       "      <td>G812</td>\n",
       "      <td>ROMA</td>\n",
       "      <td>2024-05-04</td>\n",
       "      <td>2024-05-12</td>\n",
       "      <td>06:00:00.000</td>\n",
       "      <td>23:04:08.000</td>\n",
       "      <td>390.0</td>\n",
       "      <td>NaN</td>\n",
       "      <td>NaN</td>\n",
       "      <td>Unplanned</td>\n",
       "      <td>L2 GEARBOX LEAK (SEE ATTACHED)</td>\n",
       "      <td>Corrective Maintenance Order</td>\n",
       "      <td>G812-PRD-L15-L03-L030-020</td>\n",
       "      <td>PRODUCTION</td>\n",
       "      <td>G812 PRD FILLER_ROTARY_CAN</td>\n",
       "      <td>G812 PRD FILLER_ROTARY_CAN LINE 3</td>\n",
       "      <td>CONVEYOR</td>\n",
       "      <td>FULL CAN CONVEYOR</td>\n",
       "      <td>300126812.0</td>\n",
       "      <td>FULL CAN CONVEYOR (FC41B)</td>\n",
       "      <td>Machines</td>\n",
       "      <td>2020-04-22</td>\n",
       "      <td>2020-02-10</td>\n",
       "      <td>9999-12-31</td>\n",
       "    </tr>\n",
       "    <tr>\n",
       "      <th>1</th>\n",
       "      <td>704191697</td>\n",
       "      <td>G812</td>\n",
       "      <td>ROMA</td>\n",
       "      <td>2022-09-13</td>\n",
       "      <td>2022-09-13</td>\n",
       "      <td>06:00:00.000</td>\n",
       "      <td>17:17:24.000</td>\n",
       "      <td>420.0</td>\n",
       "      <td>NaN</td>\n",
       "      <td>NaN</td>\n",
       "      <td>Unplanned</td>\n",
       "      <td>LINE 3 CONVEYOR AT CAN CODER</td>\n",
       "      <td>Corrective Maintenance Order</td>\n",
       "      <td>G812-PRD-L15-L03-L030-020</td>\n",
       "      <td>PRODUCTION</td>\n",
       "      <td>G812 PRD FILLER_ROTARY_CAN</td>\n",
       "      <td>G812 PRD FILLER_ROTARY_CAN LINE 3</td>\n",
       "      <td>CONVEYOR</td>\n",
       "      <td>FULL CAN CONVEYOR</td>\n",
       "      <td>300126812.0</td>\n",
       "      <td>FULL CAN CONVEYOR (FC41B)</td>\n",
       "      <td>Machines</td>\n",
       "      <td>2020-04-22</td>\n",
       "      <td>2020-02-10</td>\n",
       "      <td>9999-12-31</td>\n",
       "    </tr>\n",
       "    <tr>\n",
       "      <th>2</th>\n",
       "      <td>704466547</td>\n",
       "      <td>G812</td>\n",
       "      <td>ROMA</td>\n",
       "      <td>2022-12-21</td>\n",
       "      <td>2022-12-21</td>\n",
       "      <td>07:00:00.000</td>\n",
       "      <td>07:00:00.000</td>\n",
       "      <td>30.0</td>\n",
       "      <td>NaN</td>\n",
       "      <td>NaN</td>\n",
       "      <td>Unplanned</td>\n",
       "      <td>BROKEN CONVEYOR RAIL</td>\n",
       "      <td>Corrective Maintenance Order</td>\n",
       "      <td>G812-PRD-L15-L03-L030-020</td>\n",
       "      <td>PRODUCTION</td>\n",
       "      <td>G812 PRD FILLER_ROTARY_CAN</td>\n",
       "      <td>G812 PRD FILLER_ROTARY_CAN LINE 3</td>\n",
       "      <td>CONVEYOR</td>\n",
       "      <td>FULL CAN CONVEYOR</td>\n",
       "      <td>300126812.0</td>\n",
       "      <td>FULL CAN CONVEYOR (FC41B)</td>\n",
       "      <td>Machines</td>\n",
       "      <td>2020-04-22</td>\n",
       "      <td>2020-02-10</td>\n",
       "      <td>9999-12-31</td>\n",
       "    </tr>\n",
       "    <tr>\n",
       "      <th>3</th>\n",
       "      <td>703834477</td>\n",
       "      <td>G812</td>\n",
       "      <td>ROMA</td>\n",
       "      <td>2022-07-04</td>\n",
       "      <td>2022-07-04</td>\n",
       "      <td>06:00:00.000</td>\n",
       "      <td>06:00:00.000</td>\n",
       "      <td>60.0</td>\n",
       "      <td>NaN</td>\n",
       "      <td>NaN</td>\n",
       "      <td>Unplanned</td>\n",
       "      <td>LINE 3 CONVEYOR</td>\n",
       "      <td>Corrective Maintenance Order</td>\n",
       "      <td>G812-PRD-L15-L03-L030-020</td>\n",
       "      <td>PRODUCTION</td>\n",
       "      <td>G812 PRD FILLER_ROTARY_CAN</td>\n",
       "      <td>G812 PRD FILLER_ROTARY_CAN LINE 3</td>\n",
       "      <td>CONVEYOR</td>\n",
       "      <td>FULL CAN CONVEYOR</td>\n",
       "      <td>300126812.0</td>\n",
       "      <td>FULL CAN CONVEYOR (FC41B)</td>\n",
       "      <td>Machines</td>\n",
       "      <td>2020-04-22</td>\n",
       "      <td>2020-02-10</td>\n",
       "      <td>9999-12-31</td>\n",
       "    </tr>\n",
       "    <tr>\n",
       "      <th>4</th>\n",
       "      <td>704661125</td>\n",
       "      <td>G291</td>\n",
       "      <td>MONZA</td>\n",
       "      <td>2023-03-15</td>\n",
       "      <td>2023-03-15</td>\n",
       "      <td>07:00:00.000</td>\n",
       "      <td>07:00:00.000</td>\n",
       "      <td>120.0</td>\n",
       "      <td>NaN</td>\n",
       "      <td>NaN</td>\n",
       "      <td>Unplanned</td>\n",
       "      <td>REPLACED SONIC AIR BLOWER BELT</td>\n",
       "      <td>Corrective Maintenance Order</td>\n",
       "      <td>G291-PRD-P05</td>\n",
       "      <td>MONZA PRODUCTION</td>\n",
       "      <td>AIR SYSTEMS</td>\n",
       "      <td>NaN</td>\n",
       "      <td>NaN</td>\n",
       "      <td>NaN</td>\n",
       "      <td>300001088.0</td>\n",
       "      <td>TANK_STL_STOR_AIR</td>\n",
       "      <td>Machines</td>\n",
       "      <td>2017-02-15</td>\n",
       "      <td>2023-12-11</td>\n",
       "      <td>9999-12-31</td>\n",
       "    </tr>\n",
       "  </tbody>\n",
       "</table>\n",
       "</div>"
      ],
      "text/plain": [
       "    ORDER_ID PLANT_ID PRODUCTION_LOCATION EXECUTION_START_DATE  \\\n",
       "0  705642457     G812                ROMA           2024-05-04   \n",
       "1  704191697     G812                ROMA           2022-09-13   \n",
       "2  704466547     G812                ROMA           2022-12-21   \n",
       "3  703834477     G812                ROMA           2022-07-04   \n",
       "4  704661125     G291               MONZA           2023-03-15   \n",
       "\n",
       "  EXECUTION_FINISH_DATE ACTUAL_START_TIME ACTUAL_FINISH_TIME  \\\n",
       "0            2024-05-12      06:00:00.000       23:04:08.000   \n",
       "1            2022-09-13      06:00:00.000       17:17:24.000   \n",
       "2            2022-12-21      07:00:00.000       07:00:00.000   \n",
       "3            2022-07-04      06:00:00.000       06:00:00.000   \n",
       "4            2023-03-15      07:00:00.000       07:00:00.000   \n",
       "\n",
       "   ACTUAL_WORK_IN_MINUTES MAINTENANCE_PLAN  MAINTENANCE_ITEM  \\\n",
       "0                   390.0              NaN               NaN   \n",
       "1                   420.0              NaN               NaN   \n",
       "2                    30.0              NaN               NaN   \n",
       "3                    60.0              NaN               NaN   \n",
       "4                   120.0              NaN               NaN   \n",
       "\n",
       "  MAINTENANCE_ACTIVITY_TYPE               ORDER_DESCRIPTION  \\\n",
       "0                 Unplanned  L2 GEARBOX LEAK (SEE ATTACHED)   \n",
       "1                 Unplanned    LINE 3 CONVEYOR AT CAN CODER   \n",
       "2                 Unplanned            BROKEN CONVEYOR RAIL   \n",
       "3                 Unplanned                 LINE 3 CONVEYOR   \n",
       "4                 Unplanned  REPLACED SONIC AIR BLOWER BELT   \n",
       "\n",
       "   MAINTENANCE_TYPE_DESCRIPTION             FUNCTIONAL_LOC  \\\n",
       "0  Corrective Maintenance Order  G812-PRD-L15-L03-L030-020   \n",
       "1  Corrective Maintenance Order  G812-PRD-L15-L03-L030-020   \n",
       "2  Corrective Maintenance Order  G812-PRD-L15-L03-L030-020   \n",
       "3  Corrective Maintenance Order  G812-PRD-L15-L03-L030-020   \n",
       "4  Corrective Maintenance Order               G291-PRD-P05   \n",
       "\n",
       "  FUNCTIONAL_AREA_NODE_1_MODIFIED FUNCTIONAL_AREA_NODE_2_MODIFIED  \\\n",
       "0                      PRODUCTION      G812 PRD FILLER_ROTARY_CAN   \n",
       "1                      PRODUCTION      G812 PRD FILLER_ROTARY_CAN   \n",
       "2                      PRODUCTION      G812 PRD FILLER_ROTARY_CAN   \n",
       "3                      PRODUCTION      G812 PRD FILLER_ROTARY_CAN   \n",
       "4                MONZA PRODUCTION                     AIR SYSTEMS   \n",
       "\n",
       "     FUNCTIONAL_AREA_NODE_3_MODIFIED FUNCTIONAL_AREA_NODE_4_MODIFIED  \\\n",
       "0  G812 PRD FILLER_ROTARY_CAN LINE 3                        CONVEYOR   \n",
       "1  G812 PRD FILLER_ROTARY_CAN LINE 3                        CONVEYOR   \n",
       "2  G812 PRD FILLER_ROTARY_CAN LINE 3                        CONVEYOR   \n",
       "3  G812 PRD FILLER_ROTARY_CAN LINE 3                        CONVEYOR   \n",
       "4                                NaN                             NaN   \n",
       "\n",
       "  FUNCTIONAL_AREA_NODE_5_MODIFIED  EQUIPMENT_ID             EQUIPMENT_DESC  \\\n",
       "0               FULL CAN CONVEYOR   300126812.0  FULL CAN CONVEYOR (FC41B)   \n",
       "1               FULL CAN CONVEYOR   300126812.0  FULL CAN CONVEYOR (FC41B)   \n",
       "2               FULL CAN CONVEYOR   300126812.0  FULL CAN CONVEYOR (FC41B)   \n",
       "3               FULL CAN CONVEYOR   300126812.0  FULL CAN CONVEYOR (FC41B)   \n",
       "4                             NaN   300001088.0          TANK_STL_STOR_AIR   \n",
       "\n",
       "  EQUIP_CAT_DESC EQUIP_START_UP_DATE EQUIP_VALID_FROM EQUIP_VALID_TO  \n",
       "0       Machines          2020-04-22       2020-02-10     9999-12-31  \n",
       "1       Machines          2020-04-22       2020-02-10     9999-12-31  \n",
       "2       Machines          2020-04-22       2020-02-10     9999-12-31  \n",
       "3       Machines          2020-04-22       2020-02-10     9999-12-31  \n",
       "4       Machines          2017-02-15       2023-12-11     9999-12-31  "
      ]
     },
     "execution_count": 93,
     "metadata": {},
     "output_type": "execute_result"
    }
   ],
   "source": [
    "# for local file\n",
    "\n",
    "df = pd.read_csv('IWC_Work_Orders_Extract.csv', low_memory=False)\n",
    "\n",
    "df.head()"
   ]
  },
  {
   "cell_type": "code",
   "execution_count": 94,
   "metadata": {},
   "outputs": [
    {
     "data": {
      "text/plain": [
       "(1427264, 25)"
      ]
     },
     "execution_count": 94,
     "metadata": {},
     "output_type": "execute_result"
    }
   ],
   "source": [
    "df.shape"
   ]
  },
  {
   "cell_type": "code",
   "execution_count": 95,
   "metadata": {},
   "outputs": [
    {
     "name": "stdout",
     "output_type": "stream",
     "text": [
      "<class 'pandas.core.frame.DataFrame'>\n",
      "RangeIndex: 1427264 entries, 0 to 1427263\n",
      "Data columns (total 25 columns):\n",
      " #   Column                           Non-Null Count    Dtype  \n",
      "---  ------                           --------------    -----  \n",
      " 0   ORDER_ID                         1427264 non-null  int64  \n",
      " 1   PLANT_ID                         1427264 non-null  object \n",
      " 2   PRODUCTION_LOCATION              1427264 non-null  object \n",
      " 3   EXECUTION_START_DATE             1427264 non-null  object \n",
      " 4   EXECUTION_FINISH_DATE            1427264 non-null  object \n",
      " 5   ACTUAL_START_TIME                1427264 non-null  object \n",
      " 6   ACTUAL_FINISH_TIME               1427264 non-null  object \n",
      " 7   ACTUAL_WORK_IN_MINUTES           1427264 non-null  float64\n",
      " 8   MAINTENANCE_PLAN                 152594 non-null   object \n",
      " 9   MAINTENANCE_ITEM                 152594 non-null   float64\n",
      " 10  MAINTENANCE_ACTIVITY_TYPE        1427264 non-null  object \n",
      " 11  ORDER_DESCRIPTION                291767 non-null   object \n",
      " 12  MAINTENANCE_TYPE_DESCRIPTION     291795 non-null   object \n",
      " 13  FUNCTIONAL_LOC                   291782 non-null   object \n",
      " 14  FUNCTIONAL_AREA_NODE_1_MODIFIED  290117 non-null   object \n",
      " 15  FUNCTIONAL_AREA_NODE_2_MODIFIED  282407 non-null   object \n",
      " 16  FUNCTIONAL_AREA_NODE_3_MODIFIED  258691 non-null   object \n",
      " 17  FUNCTIONAL_AREA_NODE_4_MODIFIED  237573 non-null   object \n",
      " 18  FUNCTIONAL_AREA_NODE_5_MODIFIED  2180 non-null     object \n",
      " 19  EQUIPMENT_ID                     291795 non-null   float64\n",
      " 20  EQUIPMENT_DESC                   79447 non-null    object \n",
      " 21  EQUIP_CAT_DESC                   79447 non-null    object \n",
      " 22  EQUIP_START_UP_DATE              79447 non-null    object \n",
      " 23  EQUIP_VALID_FROM                 79447 non-null    object \n",
      " 24  EQUIP_VALID_TO                   79447 non-null    object \n",
      "dtypes: float64(3), int64(1), object(21)\n",
      "memory usage: 272.2+ MB\n"
     ]
    }
   ],
   "source": [
    "df.info()"
   ]
  },
  {
   "cell_type": "markdown",
   "metadata": {},
   "source": [
    "## Data Cleaning"
   ]
  },
  {
   "cell_type": "markdown",
   "metadata": {},
   "source": [
    "### Dates"
   ]
  },
  {
   "cell_type": "code",
   "execution_count": 96,
   "metadata": {},
   "outputs": [],
   "source": [
    "# change valid date columns to datetime\n",
    "dates = ['EXECUTION_START_DATE', 'EXECUTION_FINISH_DATE', 'EQUIP_START_UP_DATE', 'EQUIP_VALID_FROM', 'EQUIP_VALID_TO']\n",
    "\n",
    "for col in dates:\n",
    "    df[col] = pd.to_datetime(df[col], errors='coerce')"
   ]
  },
  {
   "cell_type": "markdown",
   "metadata": {},
   "source": [
    "### Times"
   ]
  },
  {
   "cell_type": "code",
   "execution_count": 97,
   "metadata": {},
   "outputs": [
    {
     "name": "stdout",
     "output_type": "stream",
     "text": [
      "<class 'pandas.core.frame.DataFrame'>\n",
      "RangeIndex: 1427264 entries, 0 to 1427263\n",
      "Data columns (total 25 columns):\n",
      " #   Column                           Non-Null Count    Dtype         \n",
      "---  ------                           --------------    -----         \n",
      " 0   ORDER_ID                         1427264 non-null  int64         \n",
      " 1   PLANT_ID                         1427264 non-null  object        \n",
      " 2   PRODUCTION_LOCATION              1427264 non-null  object        \n",
      " 3   EXECUTION_START_DATE             1427264 non-null  datetime64[ns]\n",
      " 4   EXECUTION_FINISH_DATE            1427264 non-null  datetime64[ns]\n",
      " 5   ACTUAL_START_TIME                1427264 non-null  datetime64[ns]\n",
      " 6   ACTUAL_FINISH_TIME               1427264 non-null  datetime64[ns]\n",
      " 7   ACTUAL_WORK_IN_MINUTES           1427264 non-null  float64       \n",
      " 8   MAINTENANCE_PLAN                 152594 non-null   object        \n",
      " 9   MAINTENANCE_ITEM                 152594 non-null   float64       \n",
      " 10  MAINTENANCE_ACTIVITY_TYPE        1427264 non-null  object        \n",
      " 11  ORDER_DESCRIPTION                291767 non-null   object        \n",
      " 12  MAINTENANCE_TYPE_DESCRIPTION     291795 non-null   object        \n",
      " 13  FUNCTIONAL_LOC                   291782 non-null   object        \n",
      " 14  FUNCTIONAL_AREA_NODE_1_MODIFIED  290117 non-null   object        \n",
      " 15  FUNCTIONAL_AREA_NODE_2_MODIFIED  282407 non-null   object        \n",
      " 16  FUNCTIONAL_AREA_NODE_3_MODIFIED  258691 non-null   object        \n",
      " 17  FUNCTIONAL_AREA_NODE_4_MODIFIED  237573 non-null   object        \n",
      " 18  FUNCTIONAL_AREA_NODE_5_MODIFIED  2180 non-null     object        \n",
      " 19  EQUIPMENT_ID                     291795 non-null   float64       \n",
      " 20  EQUIPMENT_DESC                   79447 non-null    object        \n",
      " 21  EQUIP_CAT_DESC                   79447 non-null    object        \n",
      " 22  EQUIP_START_UP_DATE              79447 non-null    datetime64[ns]\n",
      " 23  EQUIP_VALID_FROM                 79447 non-null    datetime64[ns]\n",
      " 24  EQUIP_VALID_TO                   0 non-null        datetime64[ns]\n",
      "dtypes: datetime64[ns](7), float64(3), int64(1), object(14)\n",
      "memory usage: 272.2+ MB\n"
     ]
    }
   ],
   "source": [
    "df['ACTUAL_START_TIME'] = pd.to_datetime('1900-01-01 ' + df['ACTUAL_START_TIME'], errors='coerce')\n",
    "df['ACTUAL_FINISH_TIME'] = pd.to_datetime('1900-01-01 ' + df['ACTUAL_FINISH_TIME'], errors='coerce')\n",
    "\n",
    "df.info()\n"
   ]
  },
  {
   "cell_type": "markdown",
   "metadata": {},
   "source": [
    "### Basic Stats"
   ]
  },
  {
   "cell_type": "code",
   "execution_count": 98,
   "metadata": {},
   "outputs": [
    {
     "data": {
      "text/plain": [
       "ORDER_ID                           1427244\n",
       "PLANT_ID                                 6\n",
       "PRODUCTION_LOCATION                      6\n",
       "EXECUTION_START_DATE                  2956\n",
       "EXECUTION_FINISH_DATE                 2956\n",
       "ACTUAL_START_TIME                    65927\n",
       "ACTUAL_FINISH_TIME                   61388\n",
       "ACTUAL_WORK_IN_MINUTES                4801\n",
       "MAINTENANCE_PLAN                      3308\n",
       "MAINTENANCE_ITEM                      4021\n",
       "MAINTENANCE_ACTIVITY_TYPE                2\n",
       "ORDER_DESCRIPTION                   118925\n",
       "MAINTENANCE_TYPE_DESCRIPTION             5\n",
       "FUNCTIONAL_LOC                         667\n",
       "FUNCTIONAL_AREA_NODE_1_MODIFIED          7\n",
       "FUNCTIONAL_AREA_NODE_2_MODIFIED         67\n",
       "FUNCTIONAL_AREA_NODE_3_MODIFIED        141\n",
       "FUNCTIONAL_AREA_NODE_4_MODIFIED         86\n",
       "FUNCTIONAL_AREA_NODE_5_MODIFIED         36\n",
       "EQUIPMENT_ID                          2956\n",
       "EQUIPMENT_DESC                         807\n",
       "EQUIP_CAT_DESC                           4\n",
       "EQUIP_START_UP_DATE                     92\n",
       "EQUIP_VALID_FROM                       137\n",
       "EQUIP_VALID_TO                           0\n",
       "dtype: int64"
      ]
     },
     "execution_count": 98,
     "metadata": {},
     "output_type": "execute_result"
    }
   ],
   "source": [
    "df.nunique()"
   ]
  },
  {
   "cell_type": "code",
   "execution_count": 99,
   "metadata": {},
   "outputs": [
    {
     "data": {
      "text/plain": [
       "MAINTENANCE_ACTIVITY_TYPE\n",
       "Planned       150387\n",
       "Unplanned    1276877\n",
       "Name: ACTUAL_WORK_IN_MINUTES, dtype: int64"
      ]
     },
     "execution_count": 99,
     "metadata": {},
     "output_type": "execute_result"
    }
   ],
   "source": [
    "count_by_plan = df.groupby('MAINTENANCE_ACTIVITY_TYPE')['ACTUAL_WORK_IN_MINUTES'].count()\n",
    "\n",
    "count_by_plan"
   ]
  },
  {
   "cell_type": "code",
   "execution_count": 100,
   "metadata": {},
   "outputs": [
    {
     "data": {
      "text/plain": [
       "MAINTENANCE_ACTIVITY_TYPE\n",
       "Planned      48.034311\n",
       "Unplanned    93.410893\n",
       "Name: ACTUAL_WORK_IN_MINUTES, dtype: float64"
      ]
     },
     "execution_count": 100,
     "metadata": {},
     "output_type": "execute_result"
    }
   ],
   "source": [
    "avg_by_plan = df.groupby('MAINTENANCE_ACTIVITY_TYPE')['ACTUAL_WORK_IN_MINUTES'].mean()\n",
    "\n",
    "avg_by_plan"
   ]
  },
  {
   "cell_type": "markdown",
   "metadata": {},
   "source": [
    "## EDA"
   ]
  },
  {
   "cell_type": "markdown",
   "metadata": {},
   "source": [
    "### Timeframes"
   ]
  },
  {
   "cell_type": "code",
   "execution_count": 101,
   "metadata": {},
   "outputs": [
    {
     "name": "stdout",
     "output_type": "stream",
     "text": [
      "Timeframe: 11.03 years\n"
     ]
    }
   ],
   "source": [
    "min_date = df['EXECUTION_START_DATE'].min()\n",
    "max_date = df['EXECUTION_FINISH_DATE'].max()\n",
    "\n",
    "time_diff = max_date - min_date\n",
    "\n",
    "time_diff_years = round((time_diff.days / 365.25), 2)\n",
    "\n",
    "print(f'Timeframe:', time_diff_years, 'years')"
   ]
  },
  {
   "cell_type": "code",
   "execution_count": 102,
   "metadata": {},
   "outputs": [
    {
     "data": {
      "image/png": "[encoded data removed]",
      "text/plain": [
       "<Figure size 1000x600 with 1 Axes>"
      ]
     },
     "metadata": {},
     "output_type": "display_data"
    }
   ],
   "source": [
    "df['start_year'] = df['EXECUTION_START_DATE'].dt.year\n",
    "\n",
    "count_by_year = df.groupby('start_year').size()\n",
    "\n",
    "plt.figure(figsize=(10, 6))\n",
    "count_by_year.plot(kind='line')\n",
    "plt.tight_layout()\n",
    "plt.show()"
   ]
  },
  {
   "cell_type": "code",
   "execution_count": 103,
   "metadata": {},
   "outputs": [
    {
     "data": {
      "text/plain": [
       "<Figure size 1000x600 with 0 Axes>"
      ]
     },
     "metadata": {},
     "output_type": "display_data"
    },
    {
     "data": {
      "image/png": "[encoded data removed]",
      "text/plain": [
       "<Figure size 640x480 with 1 Axes>"
      ]
     },
     "metadata": {},
     "output_type": "display_data"
    }
   ],
   "source": [
    "df['hour_start'] = df['ACTUAL_START_TIME'].dt.hour\n",
    "count_by_hour_type = df.groupby(['hour_start','MAINTENANCE_ACTIVITY_TYPE']).size().unstack()\n",
    "\n",
    "plt.figure(figsize=(10,6))\n",
    "count_by_hour_type.plot(kind='line')\n",
    "plt.ylabel('Count of Maintenance Jobs')\n",
    "plt.xlabel('Hour')\n",
    "plt.tight_layout()\n",
    "plt.show()"
   ]
  },
  {
   "cell_type": "markdown",
   "metadata": {},
   "source": [
    "### Maintenance Activity Type"
   ]
  },
  {
   "cell_type": "code",
   "execution_count": 104,
   "metadata": {},
   "outputs": [
    {
     "data": {
      "image/png": "[encoded data removed]",
      "text/plain": [
       "<Figure size 1000x600 with 1 Axes>"
      ]
     },
     "metadata": {},
     "output_type": "display_data"
    }
   ],
   "source": [
    "count_by_functional_area = df.groupby('FUNCTIONAL_AREA_NODE_1_MODIFIED')['ACTUAL_WORK_IN_MINUTES'].count()\n",
    "\n",
    "plt.figure(figsize=(10, 6))\n",
    "count_by_functional_area.plot(kind='bar')\n",
    "plt.title('Average of Duration Work By Functional Area')\n",
    "for i, value in enumerate(count_by_functional_area):\n",
    "    plt.text(i, value, f'{value:,.0f}', fontsize=9, ha='center', va='bottom')\n",
    "plt.ylabel('Count of Maintenance Jobs')\n",
    "plt.xlabel('Functional Area')\n",
    "plt.tight_layout()\n",
    "plt.show()"
   ]
  },
  {
   "cell_type": "code",
   "execution_count": 105,
   "metadata": {},
   "outputs": [
    {
     "data": {
      "image/png": "[encoded data removed]",
      "text/plain": [
       "<Figure size 1000x600 with 1 Axes>"
      ]
     },
     "metadata": {},
     "output_type": "display_data"
    }
   ],
   "source": [
    "avg_by_functional_area = df.groupby('FUNCTIONAL_AREA_NODE_1_MODIFIED')['ACTUAL_WORK_IN_MINUTES'].mean()\n",
    "\n",
    "plt.figure(figsize=(10, 6))\n",
    "avg_by_functional_area.plot(kind='bar')\n",
    "plt.title('Average of Duration Work By Functional Area')\n",
    "for i, value in enumerate(avg_by_functional_area):\n",
    "    plt.text(i, value, f'{value:.2f}', fontsize=9, ha='center', va='bottom')\n",
    "plt.ylabel('Average Time (Minutes)')\n",
    "plt.xlabel('Functional Area')\n",
    "plt.tight_layout()\n",
    "plt.show()"
   ]
  },
  {
   "cell_type": "code",
   "execution_count": 106,
   "metadata": {},
   "outputs": [
    {
     "data": {
      "image/png": "[encoded data removed]",
      "text/plain": [
       "<Figure size 1000x600 with 1 Axes>"
      ]
     },
     "metadata": {},
     "output_type": "display_data"
    }
   ],
   "source": [
    "count_x = df['FUNCTIONAL_AREA_NODE_1_MODIFIED'].value_counts()\n",
    "count_y = df.groupby('FUNCTIONAL_AREA_NODE_1_MODIFIED')['ACTUAL_WORK_IN_MINUTES'].mean()\n",
    "\n",
    "merged_counts = pd.DataFrame({'occurences': count_x, 'average_time': count_y})\n",
    "\n",
    "plt.figure(figsize=(10,6))\n",
    "plt.scatter(merged_counts['occurences'], merged_counts['average_time'])\n",
    "for i, value in merged_counts.iterrows():\n",
    "    plt.text(value['occurences'], value['average_time'], str(i), fontsize=9, ha='left')\n",
    "plt.xlabel('Count of Maintenance Jobs')\n",
    "plt.ylabel('Average Time Per Job (Minutes)')\n",
    "plt.title('Plot Comparing Number of Jobs vs Average Time Spent By Functional Area')\n",
    "plt.tight_layout()\n",
    "plt.show()"
   ]
  },
  {
   "cell_type": "markdown",
   "metadata": {},
   "source": [
    "## Time For Parts"
   ]
  },
  {
   "cell_type": "code",
   "execution_count": 107,
   "metadata": {},
   "outputs": [
    {
     "data": {
      "image/png": "[encoded data removed]",
      "text/plain": [
       "<Figure size 1000x600 with 1 Axes>"
      ]
     },
     "metadata": {},
     "output_type": "display_data"
    }
   ],
   "source": [
    "mean_minutes_by_maintenance_item = df.groupby('MAINTENANCE_ITEM')['ACTUAL_WORK_IN_MINUTES'].mean()\n",
    "\n",
    "plt.figure(figsize=(10,6))\n",
    "plt.hist(mean_minutes_by_maintenance_item, bins=100)\n",
    "plt.title(\"Distribution of minutes by Maintenance Item\")\n",
    "plt.xlabel(\"Mean Actual Work Minutes\")\n",
    "plt.ylabel(\"Frequency\")\n",
    "plt.tight_layout()\n",
    "plt.show()"
   ]
  },
  {
   "cell_type": "code",
   "execution_count": 108,
   "metadata": {},
   "outputs": [
    {
     "data": {
      "image/png": "[encoded data removed]",
      "text/plain": [
       "<Figure size 1000x600 with 1 Axes>"
      ]
     },
     "metadata": {},
     "output_type": "display_data"
    }
   ],
   "source": [
    "import seaborn as sns\n",
    "\n",
    "# Plot a KDE (Kernel Density Estimate) of the mean values\n",
    "plt.figure(figsize=(10, 6))\n",
    "sns.kdeplot(mean_minutes_by_maintenance_item, fill=True)\n",
    "plt.title('Distribution of Mean Actual Work in Minutes by Maintenance Item')\n",
    "plt.xlabel('Mean Actual Work in Minutes')\n",
    "plt.ylabel('Density')\n",
    "\n",
    "# Display the plot\n",
    "plt.show()"
   ]
  },
  {
   "cell_type": "code",
   "execution_count": 109,
   "metadata": {},
   "outputs": [
    {
     "data": {
      "image/png": "[encoded data removed]",
      "text/plain": [
       "<Figure size 1000x600 with 1 Axes>"
      ]
     },
     "metadata": {},
     "output_type": "display_data"
    }
   ],
   "source": [
    "jobs_by_day = df.groupby(\"EXECUTION_START_DATE\").size()\n",
    "\n",
    "plt.figure(figsize=(10,6))\n",
    "jobs_by_day.plot(kind='line')\n",
    "plt.ylabel('Count of Maintenance Jobs')\n",
    "plt.xlabel('Date')\n",
    "plt.tight_layout()\n",
    "plt.show()\n",
    "\n",
    "\n"
   ]
  },
  {
   "cell_type": "code",
   "execution_count": 110,
   "metadata": {},
   "outputs": [
    {
     "data": {
      "text/plain": [
       "<Figure size 1000x600 with 0 Axes>"
      ]
     },
     "metadata": {},
     "output_type": "display_data"
    },
    {
     "data": {
      "image/png": "[encoded data removed]",
      "text/plain": [
       "<Figure size 640x480 with 1 Axes>"
      ]
     },
     "metadata": {},
     "output_type": "display_data"
    }
   ],
   "source": [
    "jobs_by_day_type = df.groupby(['EXECUTION_START_DATE','MAINTENANCE_ACTIVITY_TYPE']).size().unstack()\n",
    "\n",
    "plt.figure(figsize=(10,6))\n",
    "jobs_by_day_type.plot(kind='line')\n",
    "plt.ylabel('Count of Maintenance Jobs')\n",
    "plt.xlabel('Date')\n",
    "plt.tight_layout()\n",
    "plt.show()\n"
   ]
  },
  {
   "cell_type": "markdown",
   "metadata": {},
   "source": [
    "## Count by Parts"
   ]
  },
  {
   "cell_type": "code",
   "execution_count": 111,
   "metadata": {},
   "outputs": [
    {
     "data": {
      "text/html": [
       "<div>\n",
       "<style scoped>\n",
       "    .dataframe tbody tr th:only-of-type {\n",
       "        vertical-align: middle;\n",
       "    }\n",
       "\n",
       "    .dataframe tbody tr th {\n",
       "        vertical-align: top;\n",
       "    }\n",
       "\n",
       "    .dataframe thead th {\n",
       "        text-align: right;\n",
       "    }\n",
       "</style>\n",
       "<table border=\"1\" class=\"dataframe\">\n",
       "  <thead>\n",
       "    <tr style=\"text-align: right;\">\n",
       "      <th></th>\n",
       "      <th>EQUIPMENT_DESC</th>\n",
       "      <th>Count</th>\n",
       "    </tr>\n",
       "  </thead>\n",
       "  <tbody>\n",
       "    <tr>\n",
       "      <th>0</th>\n",
       "      <td>L1 FILLER_ROTARY_CAN_72_VALVE</td>\n",
       "      <td>3745</td>\n",
       "    </tr>\n",
       "    <tr>\n",
       "      <th>1</th>\n",
       "      <td>L1 FILLER_ROTARY_BTL_60_VALVE</td>\n",
       "      <td>2738</td>\n",
       "    </tr>\n",
       "    <tr>\n",
       "      <th>2</th>\n",
       "      <td>L4 FILLER_ROTARY_CAN_100_VALVE</td>\n",
       "      <td>2511</td>\n",
       "    </tr>\n",
       "    <tr>\n",
       "      <th>3</th>\n",
       "      <td>L2 FILLER_ROTARY_BTL_45_VALVE</td>\n",
       "      <td>2072</td>\n",
       "    </tr>\n",
       "    <tr>\n",
       "      <th>4</th>\n",
       "      <td>L3 LABELER_ROTARY</td>\n",
       "      <td>1955</td>\n",
       "    </tr>\n",
       "    <tr>\n",
       "      <th>...</th>\n",
       "      <td>...</td>\n",
       "      <td>...</td>\n",
       "    </tr>\n",
       "    <tr>\n",
       "      <th>802</th>\n",
       "      <td>ALLIANCE - M16 90 AFTER MAIN INCLINE</td>\n",
       "      <td>1</td>\n",
       "    </tr>\n",
       "    <tr>\n",
       "      <th>803</th>\n",
       "      <td>L2 CASE DROP CHUTE</td>\n",
       "      <td>1</td>\n",
       "    </tr>\n",
       "    <tr>\n",
       "      <th>804</th>\n",
       "      <td>CONV_CBL_EMPTY_CAN</td>\n",
       "      <td>1</td>\n",
       "    </tr>\n",
       "    <tr>\n",
       "      <th>805</th>\n",
       "      <td>L10 WRAPPER_STRETCH_LANTECH_EAST</td>\n",
       "      <td>1</td>\n",
       "    </tr>\n",
       "    <tr>\n",
       "      <th>806</th>\n",
       "      <td>L3 LINEAR ACTUATOR #3</td>\n",
       "      <td>1</td>\n",
       "    </tr>\n",
       "  </tbody>\n",
       "</table>\n",
       "<p>807 rows × 2 columns</p>\n",
       "</div>"
      ],
      "text/plain": [
       "                           EQUIPMENT_DESC  Count\n",
       "0           L1 FILLER_ROTARY_CAN_72_VALVE   3745\n",
       "1           L1 FILLER_ROTARY_BTL_60_VALVE   2738\n",
       "2          L4 FILLER_ROTARY_CAN_100_VALVE   2511\n",
       "3           L2 FILLER_ROTARY_BTL_45_VALVE   2072\n",
       "4                       L3 LABELER_ROTARY   1955\n",
       "..                                    ...    ...\n",
       "802  ALLIANCE - M16 90 AFTER MAIN INCLINE      1\n",
       "803                    L2 CASE DROP CHUTE      1\n",
       "804                    CONV_CBL_EMPTY_CAN      1\n",
       "805      L10 WRAPPER_STRETCH_LANTECH_EAST      1\n",
       "806                 L3 LINEAR ACTUATOR #3      1\n",
       "\n",
       "[807 rows x 2 columns]"
      ]
     },
     "execution_count": 111,
     "metadata": {},
     "output_type": "execute_result"
    }
   ],
   "source": [
    "count_by_part = df.groupby('EQUIPMENT_DESC').size().sort_values(ascending=False).reset_index(name='Count')\n",
    "\n",
    "count_by_part"
   ]
  },
  {
   "cell_type": "code",
   "execution_count": 112,
   "metadata": {},
   "outputs": [],
   "source": [
    "count_by_part.to_csv('part_list.csv')"
   ]
  },
  {
   "cell_type": "code",
   "execution_count": 113,
   "metadata": {},
   "outputs": [
    {
     "data": {
      "image/png": "[encoded data removed]",
      "text/plain": [
       "<Figure size 1000x600 with 1 Axes>"
      ]
     },
     "metadata": {},
     "output_type": "display_data"
    }
   ],
   "source": [
    "plt.figure(figsize=(10, 6))\n",
    "plt.hist(count_by_part, bins=100)\n",
    "#plt.title('Distribution of Mean Actual Work in Minutes by Maintenance Item')\n",
    "plt.xlabel('Counts')\n",
    "plt.ylabel('Density')\n",
    "\n",
    "# Display the plot\n",
    "plt.show()"
   ]
  },
  {
   "cell_type": "code",
   "execution_count": 114,
   "metadata": {},
   "outputs": [
    {
     "data": {
      "text/html": [
       "<div>\n",
       "<style scoped>\n",
       "    .dataframe tbody tr th:only-of-type {\n",
       "        vertical-align: middle;\n",
       "    }\n",
       "\n",
       "    .dataframe tbody tr th {\n",
       "        vertical-align: top;\n",
       "    }\n",
       "\n",
       "    .dataframe thead th {\n",
       "        text-align: right;\n",
       "    }\n",
       "</style>\n",
       "<table border=\"1\" class=\"dataframe\">\n",
       "  <thead>\n",
       "    <tr style=\"text-align: right;\">\n",
       "      <th></th>\n",
       "      <th>EQUIPMENT_DESC</th>\n",
       "      <th>count</th>\n",
       "      <th>avg_work_time</th>\n",
       "    </tr>\n",
       "  </thead>\n",
       "  <tbody>\n",
       "    <tr>\n",
       "      <th>0</th>\n",
       "      <td>L1 FILLER_ROTARY_CAN_72_VALVE</td>\n",
       "      <td>3745</td>\n",
       "      <td>88.618798</td>\n",
       "    </tr>\n",
       "    <tr>\n",
       "      <th>1</th>\n",
       "      <td>L1 FILLER_ROTARY_BTL_60_VALVE</td>\n",
       "      <td>2738</td>\n",
       "      <td>64.620964</td>\n",
       "    </tr>\n",
       "    <tr>\n",
       "      <th>2</th>\n",
       "      <td>L4 FILLER_ROTARY_CAN_100_VALVE</td>\n",
       "      <td>2511</td>\n",
       "      <td>79.103226</td>\n",
       "    </tr>\n",
       "    <tr>\n",
       "      <th>3</th>\n",
       "      <td>L2 FILLER_ROTARY_BTL_45_VALVE</td>\n",
       "      <td>2072</td>\n",
       "      <td>115.329151</td>\n",
       "    </tr>\n",
       "    <tr>\n",
       "      <th>4</th>\n",
       "      <td>L3 LABELER_ROTARY</td>\n",
       "      <td>1955</td>\n",
       "      <td>42.938210</td>\n",
       "    </tr>\n",
       "    <tr>\n",
       "      <th>...</th>\n",
       "      <td>...</td>\n",
       "      <td>...</td>\n",
       "      <td>...</td>\n",
       "    </tr>\n",
       "    <tr>\n",
       "      <th>802</th>\n",
       "      <td>ALLIANCE - M16 90 AFTER MAIN INCLINE</td>\n",
       "      <td>1</td>\n",
       "      <td>840.000000</td>\n",
       "    </tr>\n",
       "    <tr>\n",
       "      <th>803</th>\n",
       "      <td>L2 CASE DROP CHUTE</td>\n",
       "      <td>1</td>\n",
       "      <td>0.600000</td>\n",
       "    </tr>\n",
       "    <tr>\n",
       "      <th>804</th>\n",
       "      <td>CONV_CBL_EMPTY_CAN</td>\n",
       "      <td>1</td>\n",
       "      <td>720.000000</td>\n",
       "    </tr>\n",
       "    <tr>\n",
       "      <th>805</th>\n",
       "      <td>L10 WRAPPER_STRETCH_LANTECH_EAST</td>\n",
       "      <td>1</td>\n",
       "      <td>24.000000</td>\n",
       "    </tr>\n",
       "    <tr>\n",
       "      <th>806</th>\n",
       "      <td>L3 LINEAR ACTUATOR #3</td>\n",
       "      <td>1</td>\n",
       "      <td>120.000000</td>\n",
       "    </tr>\n",
       "  </tbody>\n",
       "</table>\n",
       "<p>807 rows × 3 columns</p>\n",
       "</div>"
      ],
      "text/plain": [
       "                           EQUIPMENT_DESC  count  avg_work_time\n",
       "0           L1 FILLER_ROTARY_CAN_72_VALVE   3745      88.618798\n",
       "1           L1 FILLER_ROTARY_BTL_60_VALVE   2738      64.620964\n",
       "2          L4 FILLER_ROTARY_CAN_100_VALVE   2511      79.103226\n",
       "3           L2 FILLER_ROTARY_BTL_45_VALVE   2072     115.329151\n",
       "4                       L3 LABELER_ROTARY   1955      42.938210\n",
       "..                                    ...    ...            ...\n",
       "802  ALLIANCE - M16 90 AFTER MAIN INCLINE      1     840.000000\n",
       "803                    L2 CASE DROP CHUTE      1       0.600000\n",
       "804                    CONV_CBL_EMPTY_CAN      1     720.000000\n",
       "805      L10 WRAPPER_STRETCH_LANTECH_EAST      1      24.000000\n",
       "806                 L3 LINEAR ACTUATOR #3      1     120.000000\n",
       "\n",
       "[807 rows x 3 columns]"
      ]
     },
     "execution_count": 114,
     "metadata": {},
     "output_type": "execute_result"
    }
   ],
   "source": [
    "avg_work_part =  df.groupby('EQUIPMENT_DESC').agg(\n",
    "    count=('EQUIPMENT_DESC', 'size'),\n",
    "    avg_work_time=('ACTUAL_WORK_IN_MINUTES', 'mean')\n",
    ").sort_values(by='count', ascending=False).reset_index()\n",
    "\n",
    "avg_work_part"
   ]
  },
  {
   "cell_type": "code",
   "execution_count": 115,
   "metadata": {},
   "outputs": [
    {
     "data": {
      "text/html": [
       "<div>\n",
       "<style scoped>\n",
       "    .dataframe tbody tr th:only-of-type {\n",
       "        vertical-align: middle;\n",
       "    }\n",
       "\n",
       "    .dataframe tbody tr th {\n",
       "        vertical-align: top;\n",
       "    }\n",
       "\n",
       "    .dataframe thead th {\n",
       "        text-align: right;\n",
       "    }\n",
       "</style>\n",
       "<table border=\"1\" class=\"dataframe\">\n",
       "  <thead>\n",
       "    <tr style=\"text-align: right;\">\n",
       "      <th></th>\n",
       "      <th>EQUIPMENT_DESC</th>\n",
       "      <th>count</th>\n",
       "      <th>avg_work_time</th>\n",
       "      <th>binned</th>\n",
       "    </tr>\n",
       "  </thead>\n",
       "  <tbody>\n",
       "    <tr>\n",
       "      <th>0</th>\n",
       "      <td>L1 FILLER_ROTARY_CAN_72_VALVE</td>\n",
       "      <td>3745</td>\n",
       "      <td>88.618798</td>\n",
       "      <td>(500, 4000]</td>\n",
       "    </tr>\n",
       "    <tr>\n",
       "      <th>1</th>\n",
       "      <td>L1 FILLER_ROTARY_BTL_60_VALVE</td>\n",
       "      <td>2738</td>\n",
       "      <td>64.620964</td>\n",
       "      <td>(500, 4000]</td>\n",
       "    </tr>\n",
       "    <tr>\n",
       "      <th>2</th>\n",
       "      <td>L4 FILLER_ROTARY_CAN_100_VALVE</td>\n",
       "      <td>2511</td>\n",
       "      <td>79.103226</td>\n",
       "      <td>(500, 4000]</td>\n",
       "    </tr>\n",
       "    <tr>\n",
       "      <th>3</th>\n",
       "      <td>L2 FILLER_ROTARY_BTL_45_VALVE</td>\n",
       "      <td>2072</td>\n",
       "      <td>115.329151</td>\n",
       "      <td>(500, 4000]</td>\n",
       "    </tr>\n",
       "    <tr>\n",
       "      <th>4</th>\n",
       "      <td>L3 LABELER_ROTARY</td>\n",
       "      <td>1955</td>\n",
       "      <td>42.938210</td>\n",
       "      <td>(500, 4000]</td>\n",
       "    </tr>\n",
       "    <tr>\n",
       "      <th>...</th>\n",
       "      <td>...</td>\n",
       "      <td>...</td>\n",
       "      <td>...</td>\n",
       "      <td>...</td>\n",
       "    </tr>\n",
       "    <tr>\n",
       "      <th>802</th>\n",
       "      <td>ALLIANCE - M16 90 AFTER MAIN INCLINE</td>\n",
       "      <td>1</td>\n",
       "      <td>840.000000</td>\n",
       "      <td>(0, 1]</td>\n",
       "    </tr>\n",
       "    <tr>\n",
       "      <th>803</th>\n",
       "      <td>L2 CASE DROP CHUTE</td>\n",
       "      <td>1</td>\n",
       "      <td>0.600000</td>\n",
       "      <td>(0, 1]</td>\n",
       "    </tr>\n",
       "    <tr>\n",
       "      <th>804</th>\n",
       "      <td>CONV_CBL_EMPTY_CAN</td>\n",
       "      <td>1</td>\n",
       "      <td>720.000000</td>\n",
       "      <td>(0, 1]</td>\n",
       "    </tr>\n",
       "    <tr>\n",
       "      <th>805</th>\n",
       "      <td>L10 WRAPPER_STRETCH_LANTECH_EAST</td>\n",
       "      <td>1</td>\n",
       "      <td>24.000000</td>\n",
       "      <td>(0, 1]</td>\n",
       "    </tr>\n",
       "    <tr>\n",
       "      <th>806</th>\n",
       "      <td>L3 LINEAR ACTUATOR #3</td>\n",
       "      <td>1</td>\n",
       "      <td>120.000000</td>\n",
       "      <td>(0, 1]</td>\n",
       "    </tr>\n",
       "  </tbody>\n",
       "</table>\n",
       "<p>807 rows × 4 columns</p>\n",
       "</div>"
      ],
      "text/plain": [
       "                           EQUIPMENT_DESC  count  avg_work_time       binned\n",
       "0           L1 FILLER_ROTARY_CAN_72_VALVE   3745      88.618798  (500, 4000]\n",
       "1           L1 FILLER_ROTARY_BTL_60_VALVE   2738      64.620964  (500, 4000]\n",
       "2          L4 FILLER_ROTARY_CAN_100_VALVE   2511      79.103226  (500, 4000]\n",
       "3           L2 FILLER_ROTARY_BTL_45_VALVE   2072     115.329151  (500, 4000]\n",
       "4                       L3 LABELER_ROTARY   1955      42.938210  (500, 4000]\n",
       "..                                    ...    ...            ...          ...\n",
       "802  ALLIANCE - M16 90 AFTER MAIN INCLINE      1     840.000000       (0, 1]\n",
       "803                    L2 CASE DROP CHUTE      1       0.600000       (0, 1]\n",
       "804                    CONV_CBL_EMPTY_CAN      1     720.000000       (0, 1]\n",
       "805      L10 WRAPPER_STRETCH_LANTECH_EAST      1      24.000000       (0, 1]\n",
       "806                 L3 LINEAR ACTUATOR #3      1     120.000000       (0, 1]\n",
       "\n",
       "[807 rows x 4 columns]"
      ]
     },
     "execution_count": 115,
     "metadata": {},
     "output_type": "execute_result"
    }
   ],
   "source": [
    "count_bins=[0,1,100,500,4000]\n",
    "avg_work_part['binned'] = pd.cut(avg_work_part['count'], count_bins)\n",
    "\n",
    "avg_work_part"
   ]
  },
  {
   "cell_type": "code",
   "execution_count": 116,
   "metadata": {},
   "outputs": [
    {
     "name": "stderr",
     "output_type": "stream",
     "text": [
      "/var/folders/48/lqnzfz_50qx1c2hqrjm1fbs80000gn/T/ipykernel_52263/932642431.py:1: FutureWarning: The default of observed=False is deprecated and will be changed to True in a future version of pandas. Pass observed=False to retain current behavior or observed=True to adopt the future default and silence this warning.\n",
      "  avg_work_part.groupby('binned').agg(\n"
     ]
    },
    {
     "data": {
      "text/html": [
       "<div>\n",
       "<style scoped>\n",
       "    .dataframe tbody tr th:only-of-type {\n",
       "        vertical-align: middle;\n",
       "    }\n",
       "\n",
       "    .dataframe tbody tr th {\n",
       "        vertical-align: top;\n",
       "    }\n",
       "\n",
       "    .dataframe thead th {\n",
       "        text-align: right;\n",
       "    }\n",
       "</style>\n",
       "<table border=\"1\" class=\"dataframe\">\n",
       "  <thead>\n",
       "    <tr style=\"text-align: right;\">\n",
       "      <th></th>\n",
       "      <th>total_count</th>\n",
       "      <th>avg_time</th>\n",
       "      <th>median_time</th>\n",
       "    </tr>\n",
       "    <tr>\n",
       "      <th>binned</th>\n",
       "      <th></th>\n",
       "      <th></th>\n",
       "      <th></th>\n",
       "    </tr>\n",
       "  </thead>\n",
       "  <tbody>\n",
       "    <tr>\n",
       "      <th>(0, 1]</th>\n",
       "      <td>154</td>\n",
       "      <td>155.244156</td>\n",
       "      <td>90.000000</td>\n",
       "    </tr>\n",
       "    <tr>\n",
       "      <th>(1, 100]</th>\n",
       "      <td>10958</td>\n",
       "      <td>119.227716</td>\n",
       "      <td>90.000000</td>\n",
       "    </tr>\n",
       "    <tr>\n",
       "      <th>(100, 500]</th>\n",
       "      <td>28532</td>\n",
       "      <td>67.625682</td>\n",
       "      <td>51.543323</td>\n",
       "    </tr>\n",
       "    <tr>\n",
       "      <th>(500, 4000]</th>\n",
       "      <td>39803</td>\n",
       "      <td>70.337952</td>\n",
       "      <td>63.713924</td>\n",
       "    </tr>\n",
       "  </tbody>\n",
       "</table>\n",
       "</div>"
      ],
      "text/plain": [
       "             total_count    avg_time  median_time\n",
       "binned                                           \n",
       "(0, 1]               154  155.244156    90.000000\n",
       "(1, 100]           10958  119.227716    90.000000\n",
       "(100, 500]         28532   67.625682    51.543323\n",
       "(500, 4000]        39803   70.337952    63.713924"
      ]
     },
     "execution_count": 116,
     "metadata": {},
     "output_type": "execute_result"
    }
   ],
   "source": [
    "avg_work_part.groupby('binned').agg(\n",
    "    total_count=('count', 'sum'),\n",
    "    avg_time=('avg_work_time', 'mean'),\n",
    "    median_time=('avg_work_time', 'median')\n",
    ")"
   ]
  },
  {
   "cell_type": "code",
   "execution_count": 117,
   "metadata": {},
   "outputs": [
    {
     "data": {
      "text/plain": [
       "PRODUCTION_LOCATION  FUNCTIONAL_AREA_NODE_3_MODIFIED  EXECUTION_START_DATE\n",
       "COTA                 LINE #1-CAN_LINE                 2019-10-06              1\n",
       "                                                      2019-10-07              1\n",
       "                                                      2019-10-11              6\n",
       "                                                      2019-10-12              2\n",
       "                                                      2019-10-13              2\n",
       "                                                                             ..\n",
       "                                                      2024-08-25              1\n",
       "                                                      2024-08-26              8\n",
       "                                                      2024-08-27              6\n",
       "                                                      2024-08-28              4\n",
       "                                                      2024-08-29              2\n",
       "Length: 1355, dtype: int64"
      ]
     },
     "execution_count": 117,
     "metadata": {},
     "output_type": "execute_result"
    }
   ],
   "source": [
    "df[df['EQUIPMENT_DESC'] == 'L1 FILLER_ROTARY_CAN_72_VALVE'].groupby(['PRODUCTION_LOCATION', 'FUNCTIONAL_AREA_NODE_3_MODIFIED', 'EXECUTION_START_DATE']).size()"
   ]
  },
  {
   "cell_type": "code",
   "execution_count": 118,
   "metadata": {},
   "outputs": [],
   "source": [
    "import re\n",
    "\n",
    "df['EQUIPMENT_DESC'] = df['EQUIPMENT_DESC'].astype(str)\n",
    "\n",
    "# Define a function to strip numbers and anything between parentheses\n",
    "def strip_numbers_and_parentheses(equipment_desc):\n",
    "    # Remove anything in parentheses\n",
    "    equipment_desc = re.sub(r'\\(.*?\\)', '', equipment_desc)\n",
    "    # Remove numbers\n",
    "    equipment_desc = re.sub(r'\\d+', '', equipment_desc)\n",
    "\n",
    "    equipment_desc = equipment_desc.replace('_', '')\n",
    "    # Remove extra whitespace that may result from stripping\n",
    "    equipment_desc = equipment_desc.strip()\n",
    "    return equipment_desc\n",
    "\n",
    "# Apply the function to strip numbers and parentheses\n",
    "df['CLEANED_EQUIPMENT_DESC'] = df['EQUIPMENT_DESC'].apply(strip_numbers_and_parentheses)"
   ]
  },
  {
   "cell_type": "code",
   "execution_count": 119,
   "metadata": {},
   "outputs": [
    {
     "data": {
      "text/plain": [
       "EQUIPMENT_DESC                  CLEANED_EQUIPMENT_DESC  \n",
       "L10 WATER HEATER-ARMSTRONG      L WATER HEATER-ARMSTRONG          1\n",
       "FULL CAN CONVEYOR (FC50)        FULL CAN CONVEYOR                 1\n",
       "FULL CAN CONVEYOR (FC49)        FULL CAN CONVEYOR                 1\n",
       "FULL CAN CONVEYOR (FC45D)       FULL CAN CONVEYOR                 1\n",
       "FULL CAN CONVEYOR (FC45C)       FULL CAN CONVEYOR                 1\n",
       "                                                             ...   \n",
       "L2 FILLER_ROTARY_BTL_45_VALVE   L FILLERROTARYBTLVALVE         2072\n",
       "L4 FILLER_ROTARY_CAN_100_VALVE  L FILLERROTARYCANVALVE         2511\n",
       "L1 FILLER_ROTARY_BTL_60_VALVE   L FILLERROTARYBTLVALVE         2738\n",
       "L1 FILLER_ROTARY_CAN_72_VALVE   L FILLERROTARYCANVALVE         3745\n",
       "nan                             nan                         1347817\n",
       "Length: 808, dtype: int64"
      ]
     },
     "execution_count": 119,
     "metadata": {},
     "output_type": "execute_result"
    }
   ],
   "source": [
    "df.groupby(['EQUIPMENT_DESC', 'CLEANED_EQUIPMENT_DESC']).size().sort_values()\n"
   ]
  },
  {
   "cell_type": "code",
   "execution_count": 120,
   "metadata": {},
   "outputs": [
    {
     "data": {
      "text/plain": [
       "CLEANED_EQUIPMENT_DESC\n",
       "nan                                1347817\n",
       "L FILLERROTARYCANVALVE                7010\n",
       "L FILLERROTARYBTLVALVE                6284\n",
       "L LABELERROTARY                       2583\n",
       "L PACKRCASEWESTROCKDDM                2093\n",
       "                                    ...   \n",
       "PUMPCENTSANITFILLERRETURN L              1\n",
       "PUMPCENTSANITDISCHARGE L                 1\n",
       "PUMPCENTSANITBLENDTANK L                 1\n",
       "PUMPCENTSANIT                            1\n",
       "L DOMINO LASER CAN CODER - EAST          1\n",
       "Length: 569, dtype: int64"
      ]
     },
     "execution_count": 120,
     "metadata": {},
     "output_type": "execute_result"
    }
   ],
   "source": [
    "df.groupby('CLEANED_EQUIPMENT_DESC').size().sort_values(ascending=False)"
   ]
  },
  {
   "cell_type": "code",
   "execution_count": 124,
   "metadata": {},
   "outputs": [
    {
     "data": {
      "text/plain": [
       "FUNCTIONAL_LOC\n",
       "8.0       7877\n",
       "12.0     23853\n",
       "16.0     21126\n",
       "20.0        27\n",
       "21.0    236669\n",
       "25.0       301\n",
       "26.0      1929\n",
       "dtype: int64"
      ]
     },
     "execution_count": 124,
     "metadata": {},
     "output_type": "execute_result"
    }
   ],
   "source": [
    "df.groupby(df['FUNCTIONAL_LOC'].str.len()).size()"
   ]
  },
  {
   "cell_type": "code",
   "execution_count": 125,
   "metadata": {},
   "outputs": [],
   "source": [
    "#df['average_life'] = df"
   ]
  },
  {
   "cell_type": "code",
   "execution_count": 126,
   "metadata": {},
   "outputs": [],
   "source": [
    "# Group by PLANT_ID, FUNCTIONAL_AREA_NODE_3_MODIFIED, and EQUIPMENT_ID\n",
    "grouped_df = df.groupby(['PLANT_ID', 'FUNCTIONAL_AREA_NODE_3_MODIFIED', 'EQUIPMENT_ID'])\n",
    "\n",
    "# Calculate the time difference between the earliest EXECUTION_START_DATE and the latest EXECUTION_FINISH_DATE for each group\n",
    "df['TIME_BETWEEN_START_AND_FINISH'] = (df['EXECUTION_FINISH_DATE'] - df['EXECUTION_START_DATE']).dt.days\n",
    "\n",
    "# For each group, find the time span between the first execution start date and the last execution finish date\n",
    "time_span_by_group = grouped_df.agg(\n",
    "    FIRST_EXECUTION_START=pd.NamedAgg(column='EXECUTION_START_DATE', aggfunc='min'),\n",
    "    LAST_EXECUTION_FINISH=pd.NamedAgg(column='EXECUTION_FINISH_DATE', aggfunc='max')\n",
    ")\n",
    "\n",
    "# Calculate the duration (in days) between the first execution start and the last execution finish\n",
    "time_span_by_group['TIME_SPAN_IN_DAYS'] = (time_span_by_group['LAST_EXECUTION_FINISH'] - time_span_by_group['FIRST_EXECUTION_START']).dt.days\n",
    "\n",
    "# Reset the index for easier reading\n",
    "time_span_by_group = time_span_by_group.reset_index()\n"
   ]
  },
  {
   "cell_type": "code",
   "execution_count": 127,
   "metadata": {},
   "outputs": [
    {
     "data": {
      "text/html": [
       "<div>\n",
       "<style scoped>\n",
       "    .dataframe tbody tr th:only-of-type {\n",
       "        vertical-align: middle;\n",
       "    }\n",
       "\n",
       "    .dataframe tbody tr th {\n",
       "        vertical-align: top;\n",
       "    }\n",
       "\n",
       "    .dataframe thead th {\n",
       "        text-align: right;\n",
       "    }\n",
       "</style>\n",
       "<table border=\"1\" class=\"dataframe\">\n",
       "  <thead>\n",
       "    <tr style=\"text-align: right;\">\n",
       "      <th></th>\n",
       "      <th>ORDER_ID</th>\n",
       "      <th>PLANT_ID</th>\n",
       "      <th>PRODUCTION_LOCATION</th>\n",
       "      <th>EXECUTION_START_DATE</th>\n",
       "      <th>EXECUTION_FINISH_DATE</th>\n",
       "      <th>ACTUAL_START_TIME</th>\n",
       "      <th>ACTUAL_FINISH_TIME</th>\n",
       "      <th>ACTUAL_WORK_IN_MINUTES</th>\n",
       "      <th>MAINTENANCE_PLAN</th>\n",
       "      <th>MAINTENANCE_ITEM</th>\n",
       "      <th>MAINTENANCE_ACTIVITY_TYPE</th>\n",
       "      <th>ORDER_DESCRIPTION</th>\n",
       "      <th>MAINTENANCE_TYPE_DESCRIPTION</th>\n",
       "      <th>FUNCTIONAL_LOC</th>\n",
       "      <th>FUNCTIONAL_AREA_NODE_1_MODIFIED</th>\n",
       "      <th>FUNCTIONAL_AREA_NODE_2_MODIFIED</th>\n",
       "      <th>FUNCTIONAL_AREA_NODE_3_MODIFIED</th>\n",
       "      <th>FUNCTIONAL_AREA_NODE_4_MODIFIED</th>\n",
       "      <th>FUNCTIONAL_AREA_NODE_5_MODIFIED</th>\n",
       "      <th>EQUIPMENT_ID</th>\n",
       "      <th>EQUIPMENT_DESC</th>\n",
       "      <th>EQUIP_CAT_DESC</th>\n",
       "      <th>EQUIP_START_UP_DATE</th>\n",
       "      <th>EQUIP_VALID_FROM</th>\n",
       "      <th>EQUIP_VALID_TO</th>\n",
       "      <th>start_year</th>\n",
       "      <th>hour_start</th>\n",
       "      <th>CLEANED_EQUIPMENT_DESC</th>\n",
       "      <th>TIME_BETWEEN_START_AND_FINISH</th>\n",
       "    </tr>\n",
       "  </thead>\n",
       "  <tbody>\n",
       "    <tr>\n",
       "      <th>0</th>\n",
       "      <td>705642457</td>\n",
       "      <td>G812</td>\n",
       "      <td>ROMA</td>\n",
       "      <td>2024-05-04</td>\n",
       "      <td>2024-05-12</td>\n",
       "      <td>1900-01-01 06:00:00</td>\n",
       "      <td>1900-01-01 23:04:08</td>\n",
       "      <td>390.0</td>\n",
       "      <td>NaN</td>\n",
       "      <td>NaN</td>\n",
       "      <td>Unplanned</td>\n",
       "      <td>L2 GEARBOX LEAK (SEE ATTACHED)</td>\n",
       "      <td>Corrective Maintenance Order</td>\n",
       "      <td>G812-PRD-L15-L03-L030-020</td>\n",
       "      <td>PRODUCTION</td>\n",
       "      <td>G812 PRD FILLER_ROTARY_CAN</td>\n",
       "      <td>G812 PRD FILLER_ROTARY_CAN LINE 3</td>\n",
       "      <td>CONVEYOR</td>\n",
       "      <td>FULL CAN CONVEYOR</td>\n",
       "      <td>300126812.0</td>\n",
       "      <td>FULL CAN CONVEYOR (FC41B)</td>\n",
       "      <td>Machines</td>\n",
       "      <td>2020-04-22</td>\n",
       "      <td>2020-02-10</td>\n",
       "      <td>NaT</td>\n",
       "      <td>2024</td>\n",
       "      <td>6</td>\n",
       "      <td>FULL CAN CONVEYOR</td>\n",
       "      <td>8</td>\n",
       "    </tr>\n",
       "    <tr>\n",
       "      <th>1</th>\n",
       "      <td>704191697</td>\n",
       "      <td>G812</td>\n",
       "      <td>ROMA</td>\n",
       "      <td>2022-09-13</td>\n",
       "      <td>2022-09-13</td>\n",
       "      <td>1900-01-01 06:00:00</td>\n",
       "      <td>1900-01-01 17:17:24</td>\n",
       "      <td>420.0</td>\n",
       "      <td>NaN</td>\n",
       "      <td>NaN</td>\n",
       "      <td>Unplanned</td>\n",
       "      <td>LINE 3 CONVEYOR AT CAN CODER</td>\n",
       "      <td>Corrective Maintenance Order</td>\n",
       "      <td>G812-PRD-L15-L03-L030-020</td>\n",
       "      <td>PRODUCTION</td>\n",
       "      <td>G812 PRD FILLER_ROTARY_CAN</td>\n",
       "      <td>G812 PRD FILLER_ROTARY_CAN LINE 3</td>\n",
       "      <td>CONVEYOR</td>\n",
       "      <td>FULL CAN CONVEYOR</td>\n",
       "      <td>300126812.0</td>\n",
       "      <td>FULL CAN CONVEYOR (FC41B)</td>\n",
       "      <td>Machines</td>\n",
       "      <td>2020-04-22</td>\n",
       "      <td>2020-02-10</td>\n",
       "      <td>NaT</td>\n",
       "      <td>2022</td>\n",
       "      <td>6</td>\n",
       "      <td>FULL CAN CONVEYOR</td>\n",
       "      <td>0</td>\n",
       "    </tr>\n",
       "    <tr>\n",
       "      <th>2</th>\n",
       "      <td>704466547</td>\n",
       "      <td>G812</td>\n",
       "      <td>ROMA</td>\n",
       "      <td>2022-12-21</td>\n",
       "      <td>2022-12-21</td>\n",
       "      <td>1900-01-01 07:00:00</td>\n",
       "      <td>1900-01-01 07:00:00</td>\n",
       "      <td>30.0</td>\n",
       "      <td>NaN</td>\n",
       "      <td>NaN</td>\n",
       "      <td>Unplanned</td>\n",
       "      <td>BROKEN CONVEYOR RAIL</td>\n",
       "      <td>Corrective Maintenance Order</td>\n",
       "      <td>G812-PRD-L15-L03-L030-020</td>\n",
       "      <td>PRODUCTION</td>\n",
       "      <td>G812 PRD FILLER_ROTARY_CAN</td>\n",
       "      <td>G812 PRD FILLER_ROTARY_CAN LINE 3</td>\n",
       "      <td>CONVEYOR</td>\n",
       "      <td>FULL CAN CONVEYOR</td>\n",
       "      <td>300126812.0</td>\n",
       "      <td>FULL CAN CONVEYOR (FC41B)</td>\n",
       "      <td>Machines</td>\n",
       "      <td>2020-04-22</td>\n",
       "      <td>2020-02-10</td>\n",
       "      <td>NaT</td>\n",
       "      <td>2022</td>\n",
       "      <td>7</td>\n",
       "      <td>FULL CAN CONVEYOR</td>\n",
       "      <td>0</td>\n",
       "    </tr>\n",
       "    <tr>\n",
       "      <th>3</th>\n",
       "      <td>703834477</td>\n",
       "      <td>G812</td>\n",
       "      <td>ROMA</td>\n",
       "      <td>2022-07-04</td>\n",
       "      <td>2022-07-04</td>\n",
       "      <td>1900-01-01 06:00:00</td>\n",
       "      <td>1900-01-01 06:00:00</td>\n",
       "      <td>60.0</td>\n",
       "      <td>NaN</td>\n",
       "      <td>NaN</td>\n",
       "      <td>Unplanned</td>\n",
       "      <td>LINE 3 CONVEYOR</td>\n",
       "      <td>Corrective Maintenance Order</td>\n",
       "      <td>G812-PRD-L15-L03-L030-020</td>\n",
       "      <td>PRODUCTION</td>\n",
       "      <td>G812 PRD FILLER_ROTARY_CAN</td>\n",
       "      <td>G812 PRD FILLER_ROTARY_CAN LINE 3</td>\n",
       "      <td>CONVEYOR</td>\n",
       "      <td>FULL CAN CONVEYOR</td>\n",
       "      <td>300126812.0</td>\n",
       "      <td>FULL CAN CONVEYOR (FC41B)</td>\n",
       "      <td>Machines</td>\n",
       "      <td>2020-04-22</td>\n",
       "      <td>2020-02-10</td>\n",
       "      <td>NaT</td>\n",
       "      <td>2022</td>\n",
       "      <td>6</td>\n",
       "      <td>FULL CAN CONVEYOR</td>\n",
       "      <td>0</td>\n",
       "    </tr>\n",
       "    <tr>\n",
       "      <th>4</th>\n",
       "      <td>704661125</td>\n",
       "      <td>G291</td>\n",
       "      <td>MONZA</td>\n",
       "      <td>2023-03-15</td>\n",
       "      <td>2023-03-15</td>\n",
       "      <td>1900-01-01 07:00:00</td>\n",
       "      <td>1900-01-01 07:00:00</td>\n",
       "      <td>120.0</td>\n",
       "      <td>NaN</td>\n",
       "      <td>NaN</td>\n",
       "      <td>Unplanned</td>\n",
       "      <td>REPLACED SONIC AIR BLOWER BELT</td>\n",
       "      <td>Corrective Maintenance Order</td>\n",
       "      <td>G291-PRD-P05</td>\n",
       "      <td>MONZA PRODUCTION</td>\n",
       "      <td>AIR SYSTEMS</td>\n",
       "      <td>NaN</td>\n",
       "      <td>NaN</td>\n",
       "      <td>NaN</td>\n",
       "      <td>300001088.0</td>\n",
       "      <td>TANK_STL_STOR_AIR</td>\n",
       "      <td>Machines</td>\n",
       "      <td>2017-02-15</td>\n",
       "      <td>2023-12-11</td>\n",
       "      <td>NaT</td>\n",
       "      <td>2023</td>\n",
       "      <td>7</td>\n",
       "      <td>TANKSTLSTORAIR</td>\n",
       "      <td>0</td>\n",
       "    </tr>\n",
       "  </tbody>\n",
       "</table>\n",
       "</div>"
      ],
      "text/plain": [
       "    ORDER_ID PLANT_ID PRODUCTION_LOCATION EXECUTION_START_DATE  \\\n",
       "0  705642457     G812                ROMA           2024-05-04   \n",
       "1  704191697     G812                ROMA           2022-09-13   \n",
       "2  704466547     G812                ROMA           2022-12-21   \n",
       "3  703834477     G812                ROMA           2022-07-04   \n",
       "4  704661125     G291               MONZA           2023-03-15   \n",
       "\n",
       "  EXECUTION_FINISH_DATE   ACTUAL_START_TIME  ACTUAL_FINISH_TIME  \\\n",
       "0            2024-05-12 1900-01-01 06:00:00 1900-01-01 23:04:08   \n",
       "1            2022-09-13 1900-01-01 06:00:00 1900-01-01 17:17:24   \n",
       "2            2022-12-21 1900-01-01 07:00:00 1900-01-01 07:00:00   \n",
       "3            2022-07-04 1900-01-01 06:00:00 1900-01-01 06:00:00   \n",
       "4            2023-03-15 1900-01-01 07:00:00 1900-01-01 07:00:00   \n",
       "\n",
       "   ACTUAL_WORK_IN_MINUTES MAINTENANCE_PLAN  MAINTENANCE_ITEM  \\\n",
       "0                   390.0              NaN               NaN   \n",
       "1                   420.0              NaN               NaN   \n",
       "2                    30.0              NaN               NaN   \n",
       "3                    60.0              NaN               NaN   \n",
       "4                   120.0              NaN               NaN   \n",
       "\n",
       "  MAINTENANCE_ACTIVITY_TYPE               ORDER_DESCRIPTION  \\\n",
       "0                 Unplanned  L2 GEARBOX LEAK (SEE ATTACHED)   \n",
       "1                 Unplanned    LINE 3 CONVEYOR AT CAN CODER   \n",
       "2                 Unplanned            BROKEN CONVEYOR RAIL   \n",
       "3                 Unplanned                 LINE 3 CONVEYOR   \n",
       "4                 Unplanned  REPLACED SONIC AIR BLOWER BELT   \n",
       "\n",
       "   MAINTENANCE_TYPE_DESCRIPTION             FUNCTIONAL_LOC  \\\n",
       "0  Corrective Maintenance Order  G812-PRD-L15-L03-L030-020   \n",
       "1  Corrective Maintenance Order  G812-PRD-L15-L03-L030-020   \n",
       "2  Corrective Maintenance Order  G812-PRD-L15-L03-L030-020   \n",
       "3  Corrective Maintenance Order  G812-PRD-L15-L03-L030-020   \n",
       "4  Corrective Maintenance Order               G291-PRD-P05   \n",
       "\n",
       "  FUNCTIONAL_AREA_NODE_1_MODIFIED FUNCTIONAL_AREA_NODE_2_MODIFIED  \\\n",
       "0                      PRODUCTION      G812 PRD FILLER_ROTARY_CAN   \n",
       "1                      PRODUCTION      G812 PRD FILLER_ROTARY_CAN   \n",
       "2                      PRODUCTION      G812 PRD FILLER_ROTARY_CAN   \n",
       "3                      PRODUCTION      G812 PRD FILLER_ROTARY_CAN   \n",
       "4                MONZA PRODUCTION                     AIR SYSTEMS   \n",
       "\n",
       "     FUNCTIONAL_AREA_NODE_3_MODIFIED FUNCTIONAL_AREA_NODE_4_MODIFIED  \\\n",
       "0  G812 PRD FILLER_ROTARY_CAN LINE 3                        CONVEYOR   \n",
       "1  G812 PRD FILLER_ROTARY_CAN LINE 3                        CONVEYOR   \n",
       "2  G812 PRD FILLER_ROTARY_CAN LINE 3                        CONVEYOR   \n",
       "3  G812 PRD FILLER_ROTARY_CAN LINE 3                        CONVEYOR   \n",
       "4                                NaN                             NaN   \n",
       "\n",
       "  FUNCTIONAL_AREA_NODE_5_MODIFIED  EQUIPMENT_ID             EQUIPMENT_DESC  \\\n",
       "0               FULL CAN CONVEYOR   300126812.0  FULL CAN CONVEYOR (FC41B)   \n",
       "1               FULL CAN CONVEYOR   300126812.0  FULL CAN CONVEYOR (FC41B)   \n",
       "2               FULL CAN CONVEYOR   300126812.0  FULL CAN CONVEYOR (FC41B)   \n",
       "3               FULL CAN CONVEYOR   300126812.0  FULL CAN CONVEYOR (FC41B)   \n",
       "4                             NaN   300001088.0          TANK_STL_STOR_AIR   \n",
       "\n",
       "  EQUIP_CAT_DESC EQUIP_START_UP_DATE EQUIP_VALID_FROM EQUIP_VALID_TO  \\\n",
       "0       Machines          2020-04-22       2020-02-10            NaT   \n",
       "1       Machines          2020-04-22       2020-02-10            NaT   \n",
       "2       Machines          2020-04-22       2020-02-10            NaT   \n",
       "3       Machines          2020-04-22       2020-02-10            NaT   \n",
       "4       Machines          2017-02-15       2023-12-11            NaT   \n",
       "\n",
       "   start_year  hour_start CLEANED_EQUIPMENT_DESC  \\\n",
       "0        2024           6      FULL CAN CONVEYOR   \n",
       "1        2022           6      FULL CAN CONVEYOR   \n",
       "2        2022           7      FULL CAN CONVEYOR   \n",
       "3        2022           6      FULL CAN CONVEYOR   \n",
       "4        2023           7         TANKSTLSTORAIR   \n",
       "\n",
       "   TIME_BETWEEN_START_AND_FINISH  \n",
       "0                              8  \n",
       "1                              0  \n",
       "2                              0  \n",
       "3                              0  \n",
       "4                              0  "
      ]
     },
     "execution_count": 127,
     "metadata": {},
     "output_type": "execute_result"
    }
   ],
   "source": [
    "df.head()"
   ]
  },
  {
   "cell_type": "code",
   "execution_count": 128,
   "metadata": {},
   "outputs": [],
   "source": [
    "example_time_diff = df[df['FUNCTIONAL_LOC'] == 'G812-PRD-L15-L03-L030-020'].sort_values('EXECUTION_START_DATE')"
   ]
  },
  {
   "cell_type": "code",
   "execution_count": 129,
   "metadata": {},
   "outputs": [],
   "source": [
    "selected_columns = ['ORDER_ID', 'PLANT_ID', 'FUNCTIONAL_LOC', 'EXECUTION_START_DATE', 'EXECUTION_FINISH_DATE', 'EQUIPMENT_ID', 'EQUIPMENT_DESC', 'TIME_BETWEEN_START_AND_FINISH']\n",
    "filtered_selected_df = example_time_diff[selected_columns]"
   ]
  },
  {
   "cell_type": "code",
   "execution_count": 130,
   "metadata": {},
   "outputs": [
    {
     "data": {
      "text/html": [
       "<div>\n",
       "<style scoped>\n",
       "    .dataframe tbody tr th:only-of-type {\n",
       "        vertical-align: middle;\n",
       "    }\n",
       "\n",
       "    .dataframe tbody tr th {\n",
       "        vertical-align: top;\n",
       "    }\n",
       "\n",
       "    .dataframe thead th {\n",
       "        text-align: right;\n",
       "    }\n",
       "</style>\n",
       "<table border=\"1\" class=\"dataframe\">\n",
       "  <thead>\n",
       "    <tr style=\"text-align: right;\">\n",
       "      <th></th>\n",
       "      <th>ORDER_ID</th>\n",
       "      <th>PLANT_ID</th>\n",
       "      <th>FUNCTIONAL_LOC</th>\n",
       "      <th>EXECUTION_START_DATE</th>\n",
       "      <th>EXECUTION_FINISH_DATE</th>\n",
       "      <th>EQUIPMENT_ID</th>\n",
       "      <th>EQUIPMENT_DESC</th>\n",
       "      <th>TIME_BETWEEN_START_AND_FINISH</th>\n",
       "    </tr>\n",
       "  </thead>\n",
       "  <tbody>\n",
       "    <tr>\n",
       "      <th>229859</th>\n",
       "      <td>702712501</td>\n",
       "      <td>G812</td>\n",
       "      <td>G812-PRD-L15-L03-L030-020</td>\n",
       "      <td>2021-01-16</td>\n",
       "      <td>2021-01-16</td>\n",
       "      <td>300126836.0</td>\n",
       "      <td>FULL CAN CONVEYOR (FC60)</td>\n",
       "      <td>0</td>\n",
       "    </tr>\n",
       "    <tr>\n",
       "      <th>1065751</th>\n",
       "      <td>702711538</td>\n",
       "      <td>G812</td>\n",
       "      <td>G812-PRD-L15-L03-L030-020</td>\n",
       "      <td>2021-01-16</td>\n",
       "      <td>2021-01-16</td>\n",
       "      <td>300126811.0</td>\n",
       "      <td>FULL CAN CONVEYOR (FC41A)</td>\n",
       "      <td>0</td>\n",
       "    </tr>\n",
       "    <tr>\n",
       "      <th>1383307</th>\n",
       "      <td>702764911</td>\n",
       "      <td>G812</td>\n",
       "      <td>G812-PRD-L15-L03-L030-020</td>\n",
       "      <td>2021-02-10</td>\n",
       "      <td>2021-02-10</td>\n",
       "      <td>300126814.0</td>\n",
       "      <td>FULL CAN CONVEYOR (FC43)</td>\n",
       "      <td>0</td>\n",
       "    </tr>\n",
       "    <tr>\n",
       "      <th>1065754</th>\n",
       "      <td>703036469</td>\n",
       "      <td>G812</td>\n",
       "      <td>G812-PRD-L15-L03-L030-020</td>\n",
       "      <td>2021-06-24</td>\n",
       "      <td>2021-06-24</td>\n",
       "      <td>300126811.0</td>\n",
       "      <td>FULL CAN CONVEYOR (FC41A)</td>\n",
       "      <td>0</td>\n",
       "    </tr>\n",
       "    <tr>\n",
       "      <th>1065748</th>\n",
       "      <td>703141582</td>\n",
       "      <td>G812</td>\n",
       "      <td>G812-PRD-L15-L03-L030-020</td>\n",
       "      <td>2021-11-23</td>\n",
       "      <td>2022-01-18</td>\n",
       "      <td>300126811.0</td>\n",
       "      <td>FULL CAN CONVEYOR (FC41A)</td>\n",
       "      <td>56</td>\n",
       "    </tr>\n",
       "  </tbody>\n",
       "</table>\n",
       "</div>"
      ],
      "text/plain": [
       "          ORDER_ID PLANT_ID             FUNCTIONAL_LOC EXECUTION_START_DATE  \\\n",
       "229859   702712501     G812  G812-PRD-L15-L03-L030-020           2021-01-16   \n",
       "1065751  702711538     G812  G812-PRD-L15-L03-L030-020           2021-01-16   \n",
       "1383307  702764911     G812  G812-PRD-L15-L03-L030-020           2021-02-10   \n",
       "1065754  703036469     G812  G812-PRD-L15-L03-L030-020           2021-06-24   \n",
       "1065748  703141582     G812  G812-PRD-L15-L03-L030-020           2021-11-23   \n",
       "\n",
       "        EXECUTION_FINISH_DATE  EQUIPMENT_ID             EQUIPMENT_DESC  \\\n",
       "229859             2021-01-16   300126836.0   FULL CAN CONVEYOR (FC60)   \n",
       "1065751            2021-01-16   300126811.0  FULL CAN CONVEYOR (FC41A)   \n",
       "1383307            2021-02-10   300126814.0   FULL CAN CONVEYOR (FC43)   \n",
       "1065754            2021-06-24   300126811.0  FULL CAN CONVEYOR (FC41A)   \n",
       "1065748            2022-01-18   300126811.0  FULL CAN CONVEYOR (FC41A)   \n",
       "\n",
       "         TIME_BETWEEN_START_AND_FINISH  \n",
       "229859                               0  \n",
       "1065751                              0  \n",
       "1383307                              0  \n",
       "1065754                              0  \n",
       "1065748                             56  "
      ]
     },
     "execution_count": 130,
     "metadata": {},
     "output_type": "execute_result"
    }
   ],
   "source": [
    "filtered_selected_df.head()"
   ]
  },
  {
   "cell_type": "markdown",
   "metadata": {},
   "source": [
    "## Table Development"
   ]
  },
  {
   "cell_type": "markdown",
   "metadata": {},
   "source": [
    "### By Line"
   ]
  },
  {
   "cell_type": "code",
   "execution_count": 131,
   "metadata": {},
   "outputs": [
    {
     "data": {
      "text/html": [
       "<div>\n",
       "<style scoped>\n",
       "    .dataframe tbody tr th:only-of-type {\n",
       "        vertical-align: middle;\n",
       "    }\n",
       "\n",
       "    .dataframe tbody tr th {\n",
       "        vertical-align: top;\n",
       "    }\n",
       "\n",
       "    .dataframe thead th {\n",
       "        text-align: right;\n",
       "    }\n",
       "</style>\n",
       "<table border=\"1\" class=\"dataframe\">\n",
       "  <thead>\n",
       "    <tr style=\"text-align: right;\">\n",
       "      <th></th>\n",
       "      <th>PLANT_ID</th>\n",
       "      <th>EQUIPMENT_ID</th>\n",
       "      <th>EXECUTION_START_DATE</th>\n",
       "      <th>EXECUTION_FINISH_DATE</th>\n",
       "    </tr>\n",
       "  </thead>\n",
       "  <tbody>\n",
       "    <tr>\n",
       "      <th>1284117</th>\n",
       "      <td>G221</td>\n",
       "      <td>300009071.0</td>\n",
       "      <td>2017-05-08</td>\n",
       "      <td>2017-05-08</td>\n",
       "    </tr>\n",
       "    <tr>\n",
       "      <th>222682</th>\n",
       "      <td>G221</td>\n",
       "      <td>300009071.0</td>\n",
       "      <td>2017-06-20</td>\n",
       "      <td>2017-06-20</td>\n",
       "    </tr>\n",
       "    <tr>\n",
       "      <th>1015712</th>\n",
       "      <td>G221</td>\n",
       "      <td>300009071.0</td>\n",
       "      <td>2017-07-17</td>\n",
       "      <td>2017-07-17</td>\n",
       "    </tr>\n",
       "    <tr>\n",
       "      <th>707006</th>\n",
       "      <td>G221</td>\n",
       "      <td>300009071.0</td>\n",
       "      <td>2017-10-10</td>\n",
       "      <td>2017-10-10</td>\n",
       "    </tr>\n",
       "    <tr>\n",
       "      <th>1196118</th>\n",
       "      <td>G221</td>\n",
       "      <td>300009071.0</td>\n",
       "      <td>2017-11-14</td>\n",
       "      <td>2017-12-13</td>\n",
       "    </tr>\n",
       "    <tr>\n",
       "      <th>...</th>\n",
       "      <td>...</td>\n",
       "      <td>...</td>\n",
       "      <td>...</td>\n",
       "      <td>...</td>\n",
       "    </tr>\n",
       "    <tr>\n",
       "      <th>1229459</th>\n",
       "      <td>G816</td>\n",
       "      <td>NaN</td>\n",
       "      <td>2024-08-29</td>\n",
       "      <td>2024-08-29</td>\n",
       "    </tr>\n",
       "    <tr>\n",
       "      <th>1389477</th>\n",
       "      <td>G816</td>\n",
       "      <td>NaN</td>\n",
       "      <td>2024-08-29</td>\n",
       "      <td>2024-08-29</td>\n",
       "    </tr>\n",
       "    <tr>\n",
       "      <th>1395410</th>\n",
       "      <td>G816</td>\n",
       "      <td>NaN</td>\n",
       "      <td>2024-08-29</td>\n",
       "      <td>2024-08-29</td>\n",
       "    </tr>\n",
       "    <tr>\n",
       "      <th>1415264</th>\n",
       "      <td>G816</td>\n",
       "      <td>NaN</td>\n",
       "      <td>2024-08-29</td>\n",
       "      <td>2024-08-29</td>\n",
       "    </tr>\n",
       "    <tr>\n",
       "      <th>1416634</th>\n",
       "      <td>G816</td>\n",
       "      <td>NaN</td>\n",
       "      <td>2024-08-29</td>\n",
       "      <td>2024-08-29</td>\n",
       "    </tr>\n",
       "  </tbody>\n",
       "</table>\n",
       "<p>1427264 rows × 4 columns</p>\n",
       "</div>"
      ],
      "text/plain": [
       "        PLANT_ID  EQUIPMENT_ID EXECUTION_START_DATE EXECUTION_FINISH_DATE\n",
       "1284117     G221   300009071.0           2017-05-08            2017-05-08\n",
       "222682      G221   300009071.0           2017-06-20            2017-06-20\n",
       "1015712     G221   300009071.0           2017-07-17            2017-07-17\n",
       "707006      G221   300009071.0           2017-10-10            2017-10-10\n",
       "1196118     G221   300009071.0           2017-11-14            2017-12-13\n",
       "...          ...           ...                  ...                   ...\n",
       "1229459     G816           NaN           2024-08-29            2024-08-29\n",
       "1389477     G816           NaN           2024-08-29            2024-08-29\n",
       "1395410     G816           NaN           2024-08-29            2024-08-29\n",
       "1415264     G816           NaN           2024-08-29            2024-08-29\n",
       "1416634     G816           NaN           2024-08-29            2024-08-29\n",
       "\n",
       "[1427264 rows x 4 columns]"
      ]
     },
     "execution_count": 131,
     "metadata": {},
     "output_type": "execute_result"
    }
   ],
   "source": [
    "selected_columns = ['PLANT_ID', 'EQUIPMENT_ID', 'EXECUTION_START_DATE', 'EXECUTION_FINISH_DATE', 'ACTUAL_WORK_IN_MINUTES']\n",
    "\n",
    "df[selected_columns].sort_values(selected_columns)"
   ]
  },
  {
   "cell_type": "code",
   "execution_count": 169,
   "metadata": {},
   "outputs": [],
   "source": [
    "selected_columns = ['PLANT_ID', 'EQUIPMENT_ID', 'FUNCTIONAL_LOC', 'EXECUTION_START_DATE', 'EXECUTION_FINISH_DATE', 'ACTUAL_WORK_IN_MINUTES']\n",
    "\n",
    "\n",
    "# filter rows with count of only 1\n",
    "df_filtered = df.groupby('EQUIPMENT_ID').filter(lambda x: len(x) > 1)[selected_columns]\n",
    "\n",
    "# Sort by PLANT_ID, EQUIPMENT_ID, and EXECUTION_START_DATE\n",
    "df_sorted = df_filtered.sort_values(['PLANT_ID', 'FUNCTIONAL_LOC', 'EQUIPMENT_ID', 'EXECUTION_START_DATE'])\n",
    "\n",
    "# Group by PLANT_ID and EQUIPMENT_ID\n",
    "df_sorted['PREV_EXECUTION_FINISH_DATE'] = df_sorted.groupby(['PLANT_ID', 'FUNCTIONAL_LOC', 'EQUIPMENT_ID'])['EXECUTION_FINISH_DATE'].shift(1)\n",
    "\n",
    "# Calculate the time difference (life) in days between consecutive EXECUTION_START_DATE and the previous EXECUTION_FINISH_DATE\n",
    "df_sorted['LIFE'] = (df_sorted['EXECUTION_START_DATE'] - df_sorted['PREV_EXECUTION_FINISH_DATE']).dt.days\n",
    "\n",
    "# Replace NaN with 0 for the first occurrence\n",
    "df_sorted['LIFE'] = df_sorted['LIFE'].fillna(pd.NA)\n",
    "\n",
    "# Select relevant columns\n",
    "result = df_sorted[['PLANT_ID', 'EQUIPMENT_ID', 'FUNCTIONAL_LOC', 'EXECUTION_START_DATE', 'EXECUTION_FINISH_DATE', 'ACTUAL_WORK_IN_MINUTES', 'LIFE']]\n",
    "\n",
    "# Calculate the average time between execution start and finish for each PLANT_ID and EQUIPMENT_ID\n",
    "#average_life = result.groupby(['PLANT_ID', 'FUNCTIONAL_AREA_NODE_3_MODIFIED', 'EQUIPMENT_ID'])['LIFE'].mean().reset_index(name='AVERAGE_LIFE')\n",
    "\n",
    "average_life = result.groupby(['PLANT_ID', 'FUNCTIONAL_LOC', 'EQUIPMENT_ID']).agg(\n",
    "        MEAN_LIFESPAN=('LIFE', 'mean'),\n",
    "        MEAN_TIME_MAINTENENCE=('ACTUAL_WORK_IN_MINUTES', 'mean')\n",
    "    )"
   ]
  },
  {
   "cell_type": "code",
   "execution_count": 170,
   "metadata": {},
   "outputs": [
    {
     "data": {
      "text/html": [
       "<div>\n",
       "<style scoped>\n",
       "    .dataframe tbody tr th:only-of-type {\n",
       "        vertical-align: middle;\n",
       "    }\n",
       "\n",
       "    .dataframe tbody tr th {\n",
       "        vertical-align: top;\n",
       "    }\n",
       "\n",
       "    .dataframe thead th {\n",
       "        text-align: right;\n",
       "    }\n",
       "</style>\n",
       "<table border=\"1\" class=\"dataframe\">\n",
       "  <thead>\n",
       "    <tr style=\"text-align: right;\">\n",
       "      <th></th>\n",
       "      <th></th>\n",
       "      <th></th>\n",
       "      <th>MEAN_LIFESPAN</th>\n",
       "      <th>MEAN_TIME_MAINTENENCE</th>\n",
       "    </tr>\n",
       "    <tr>\n",
       "      <th>PLANT_ID</th>\n",
       "      <th>FUNCTIONAL_LOC</th>\n",
       "      <th>EQUIPMENT_ID</th>\n",
       "      <th></th>\n",
       "      <th></th>\n",
       "    </tr>\n",
       "  </thead>\n",
       "  <tbody>\n",
       "    <tr>\n",
       "      <th rowspan=\"5\" valign=\"top\">G221</th>\n",
       "      <th rowspan=\"3\" valign=\"top\">G221-CLR-A85-E06</th>\n",
       "      <th>300009603.0</th>\n",
       "      <td>1.788656</td>\n",
       "      <td>43.255870</td>\n",
       "    </tr>\n",
       "    <tr>\n",
       "      <th>300009623.0</th>\n",
       "      <td>83.935484</td>\n",
       "      <td>34.143750</td>\n",
       "    </tr>\n",
       "    <tr>\n",
       "      <th>300009624.0</th>\n",
       "      <td>2.252534</td>\n",
       "      <td>35.351899</td>\n",
       "    </tr>\n",
       "    <tr>\n",
       "      <th rowspan=\"2\" valign=\"top\">G221-PRD</th>\n",
       "      <th>300009149.0</th>\n",
       "      <td>42.783333</td>\n",
       "      <td>249.629508</td>\n",
       "    </tr>\n",
       "    <tr>\n",
       "      <th>300245200.0</th>\n",
       "      <td>93.000000</td>\n",
       "      <td>103.400000</td>\n",
       "    </tr>\n",
       "  </tbody>\n",
       "</table>\n",
       "</div>"
      ],
      "text/plain": [
       "                                        MEAN_LIFESPAN  MEAN_TIME_MAINTENENCE\n",
       "PLANT_ID FUNCTIONAL_LOC   EQUIPMENT_ID                                      \n",
       "G221     G221-CLR-A85-E06 300009603.0        1.788656              43.255870\n",
       "                          300009623.0       83.935484              34.143750\n",
       "                          300009624.0        2.252534              35.351899\n",
       "         G221-PRD         300009149.0       42.783333             249.629508\n",
       "                          300245200.0       93.000000             103.400000"
      ]
     },
     "execution_count": 170,
     "metadata": {},
     "output_type": "execute_result"
    }
   ],
   "source": [
    "average_life.head()"
   ]
  },
  {
   "cell_type": "code",
   "execution_count": 171,
   "metadata": {},
   "outputs": [
    {
     "data": {
      "text/plain": [
       "5692"
      ]
     },
     "execution_count": 171,
     "metadata": {},
     "output_type": "execute_result"
    }
   ],
   "source": [
    "average_life.size"
   ]
  },
  {
   "cell_type": "code",
   "execution_count": 179,
   "metadata": {},
   "outputs": [
    {
     "data": {
      "text/html": [
       "<div>\n",
       "<style scoped>\n",
       "    .dataframe tbody tr th:only-of-type {\n",
       "        vertical-align: middle;\n",
       "    }\n",
       "\n",
       "    .dataframe tbody tr th {\n",
       "        vertical-align: top;\n",
       "    }\n",
       "\n",
       "    .dataframe thead th {\n",
       "        text-align: right;\n",
       "    }\n",
       "</style>\n",
       "<table border=\"1\" class=\"dataframe\">\n",
       "  <thead>\n",
       "    <tr style=\"text-align: right;\">\n",
       "      <th></th>\n",
       "      <th>PLANT_ID</th>\n",
       "      <th>EQUIPMENT_ID</th>\n",
       "      <th>FUNCTIONAL_LOC</th>\n",
       "      <th>EXECUTION_START_DATE</th>\n",
       "      <th>EXECUTION_FINISH_DATE</th>\n",
       "      <th>ACTUAL_WORK_IN_MINUTES</th>\n",
       "      <th>PREV_EXECUTION_FINISH_DATE</th>\n",
       "      <th>LIFE</th>\n",
       "      <th>MEAN_LIFESPAN</th>\n",
       "      <th>MEAN_TIME_MAINTENENCE</th>\n",
       "    </tr>\n",
       "  </thead>\n",
       "  <tbody>\n",
       "    <tr>\n",
       "      <th>0</th>\n",
       "      <td>G221</td>\n",
       "      <td>300009603.0</td>\n",
       "      <td>G221-CLR-A85-E06</td>\n",
       "      <td>2017-05-08</td>\n",
       "      <td>2017-05-08</td>\n",
       "      <td>15.0</td>\n",
       "      <td>NaT</td>\n",
       "      <td>NaN</td>\n",
       "      <td>1.788656</td>\n",
       "      <td>43.255870</td>\n",
       "    </tr>\n",
       "    <tr>\n",
       "      <th>1</th>\n",
       "      <td>G221</td>\n",
       "      <td>300009603.0</td>\n",
       "      <td>G221-CLR-A85-E06</td>\n",
       "      <td>2017-05-08</td>\n",
       "      <td>2017-05-08</td>\n",
       "      <td>15.0</td>\n",
       "      <td>NaT</td>\n",
       "      <td>NaN</td>\n",
       "      <td>83.935484</td>\n",
       "      <td>34.143750</td>\n",
       "    </tr>\n",
       "    <tr>\n",
       "      <th>2</th>\n",
       "      <td>G221</td>\n",
       "      <td>300009603.0</td>\n",
       "      <td>G221-CLR-A85-E06</td>\n",
       "      <td>2017-05-08</td>\n",
       "      <td>2017-05-08</td>\n",
       "      <td>15.0</td>\n",
       "      <td>NaT</td>\n",
       "      <td>NaN</td>\n",
       "      <td>2.252534</td>\n",
       "      <td>35.351899</td>\n",
       "    </tr>\n",
       "    <tr>\n",
       "      <th>3</th>\n",
       "      <td>G221</td>\n",
       "      <td>300009603.0</td>\n",
       "      <td>G221-CLR-A85-E06</td>\n",
       "      <td>2017-05-08</td>\n",
       "      <td>2017-05-08</td>\n",
       "      <td>45.0</td>\n",
       "      <td>2017-05-08</td>\n",
       "      <td>0.0</td>\n",
       "      <td>1.788656</td>\n",
       "      <td>43.255870</td>\n",
       "    </tr>\n",
       "    <tr>\n",
       "      <th>4</th>\n",
       "      <td>G221</td>\n",
       "      <td>300009603.0</td>\n",
       "      <td>G221-CLR-A85-E06</td>\n",
       "      <td>2017-05-08</td>\n",
       "      <td>2017-05-08</td>\n",
       "      <td>45.0</td>\n",
       "      <td>2017-05-08</td>\n",
       "      <td>0.0</td>\n",
       "      <td>83.935484</td>\n",
       "      <td>34.143750</td>\n",
       "    </tr>\n",
       "  </tbody>\n",
       "</table>\n",
       "</div>"
      ],
      "text/plain": [
       "  PLANT_ID  EQUIPMENT_ID    FUNCTIONAL_LOC EXECUTION_START_DATE  \\\n",
       "0     G221   300009603.0  G221-CLR-A85-E06           2017-05-08   \n",
       "1     G221   300009603.0  G221-CLR-A85-E06           2017-05-08   \n",
       "2     G221   300009603.0  G221-CLR-A85-E06           2017-05-08   \n",
       "3     G221   300009603.0  G221-CLR-A85-E06           2017-05-08   \n",
       "4     G221   300009603.0  G221-CLR-A85-E06           2017-05-08   \n",
       "\n",
       "  EXECUTION_FINISH_DATE  ACTUAL_WORK_IN_MINUTES PREV_EXECUTION_FINISH_DATE  \\\n",
       "0            2017-05-08                    15.0                        NaT   \n",
       "1            2017-05-08                    15.0                        NaT   \n",
       "2            2017-05-08                    15.0                        NaT   \n",
       "3            2017-05-08                    45.0                 2017-05-08   \n",
       "4            2017-05-08                    45.0                 2017-05-08   \n",
       "\n",
       "   LIFE  MEAN_LIFESPAN  MEAN_TIME_MAINTENENCE  \n",
       "0   NaN       1.788656              43.255870  \n",
       "1   NaN      83.935484              34.143750  \n",
       "2   NaN       2.252534              35.351899  \n",
       "3   0.0       1.788656              43.255870  \n",
       "4   0.0      83.935484              34.143750  "
      ]
     },
     "execution_count": 179,
     "metadata": {},
     "output_type": "execute_result"
    }
   ],
   "source": [
    "df_lifespan = pd.merge(df_sorted, average_life, on=['FUNCTIONAL_LOC'], how='left')\n",
    "\n",
    "df_lifespan.head()"
   ]
  },
  {
   "cell_type": "code",
   "execution_count": 180,
   "metadata": {},
   "outputs": [
    {
     "data": {
      "text/plain": [
       "20877460"
      ]
     },
     "execution_count": 180,
     "metadata": {},
     "output_type": "execute_result"
    }
   ],
   "source": [
    "df_lifespan.size"
   ]
  },
  {
   "cell_type": "code",
   "execution_count": 175,
   "metadata": {},
   "outputs": [],
   "source": [
    "df_lifespan['EXPECTED_MAINTENANCE_DATE'] = (df_lifespan['EXECUTION_FINISH_DATE'] + pd.to_timedelta(df_lifespan['MEAN_LIFESPAN'], unit='D')).dt.date"
   ]
  },
  {
   "cell_type": "code",
   "execution_count": 176,
   "metadata": {},
   "outputs": [
    {
     "data": {
      "text/html": [
       "<div>\n",
       "<style scoped>\n",
       "    .dataframe tbody tr th:only-of-type {\n",
       "        vertical-align: middle;\n",
       "    }\n",
       "\n",
       "    .dataframe tbody tr th {\n",
       "        vertical-align: top;\n",
       "    }\n",
       "\n",
       "    .dataframe thead th {\n",
       "        text-align: right;\n",
       "    }\n",
       "</style>\n",
       "<table border=\"1\" class=\"dataframe\">\n",
       "  <thead>\n",
       "    <tr style=\"text-align: right;\">\n",
       "      <th></th>\n",
       "      <th>PLANT_ID</th>\n",
       "      <th>EQUIPMENT_ID</th>\n",
       "      <th>FUNCTIONAL_LOC</th>\n",
       "      <th>EXECUTION_START_DATE</th>\n",
       "      <th>EXECUTION_FINISH_DATE</th>\n",
       "      <th>ACTUAL_WORK_IN_MINUTES</th>\n",
       "      <th>PREV_EXECUTION_FINISH_DATE</th>\n",
       "      <th>LIFE</th>\n",
       "      <th>MEAN_LIFESPAN</th>\n",
       "      <th>MEAN_TIME_MAINTENENCE</th>\n",
       "      <th>EXPECTED_MAINTENANCE_DATE</th>\n",
       "    </tr>\n",
       "  </thead>\n",
       "  <tbody>\n",
       "    <tr>\n",
       "      <th>0</th>\n",
       "      <td>G221</td>\n",
       "      <td>300009603.0</td>\n",
       "      <td>G221-CLR-A85-E06</td>\n",
       "      <td>2017-05-08</td>\n",
       "      <td>2017-05-08</td>\n",
       "      <td>15.0</td>\n",
       "      <td>NaT</td>\n",
       "      <td>NaN</td>\n",
       "      <td>1.788656</td>\n",
       "      <td>43.25587</td>\n",
       "      <td>2017-05-09</td>\n",
       "    </tr>\n",
       "    <tr>\n",
       "      <th>1</th>\n",
       "      <td>G221</td>\n",
       "      <td>300009603.0</td>\n",
       "      <td>G221-CLR-A85-E06</td>\n",
       "      <td>2017-05-08</td>\n",
       "      <td>2017-05-08</td>\n",
       "      <td>45.0</td>\n",
       "      <td>2017-05-08</td>\n",
       "      <td>0.0</td>\n",
       "      <td>1.788656</td>\n",
       "      <td>43.25587</td>\n",
       "      <td>2017-05-09</td>\n",
       "    </tr>\n",
       "    <tr>\n",
       "      <th>2</th>\n",
       "      <td>G221</td>\n",
       "      <td>300009603.0</td>\n",
       "      <td>G221-CLR-A85-E06</td>\n",
       "      <td>2017-05-08</td>\n",
       "      <td>2017-05-08</td>\n",
       "      <td>30.0</td>\n",
       "      <td>2017-05-08</td>\n",
       "      <td>0.0</td>\n",
       "      <td>1.788656</td>\n",
       "      <td>43.25587</td>\n",
       "      <td>2017-05-09</td>\n",
       "    </tr>\n",
       "    <tr>\n",
       "      <th>3</th>\n",
       "      <td>G221</td>\n",
       "      <td>300009603.0</td>\n",
       "      <td>G221-CLR-A85-E06</td>\n",
       "      <td>2017-05-08</td>\n",
       "      <td>2017-05-08</td>\n",
       "      <td>60.0</td>\n",
       "      <td>2017-05-08</td>\n",
       "      <td>0.0</td>\n",
       "      <td>1.788656</td>\n",
       "      <td>43.25587</td>\n",
       "      <td>2017-05-09</td>\n",
       "    </tr>\n",
       "    <tr>\n",
       "      <th>4</th>\n",
       "      <td>G221</td>\n",
       "      <td>300009603.0</td>\n",
       "      <td>G221-CLR-A85-E06</td>\n",
       "      <td>2017-05-15</td>\n",
       "      <td>2017-05-15</td>\n",
       "      <td>30.0</td>\n",
       "      <td>2017-05-08</td>\n",
       "      <td>7.0</td>\n",
       "      <td>1.788656</td>\n",
       "      <td>43.25587</td>\n",
       "      <td>2017-05-16</td>\n",
       "    </tr>\n",
       "  </tbody>\n",
       "</table>\n",
       "</div>"
      ],
      "text/plain": [
       "  PLANT_ID  EQUIPMENT_ID    FUNCTIONAL_LOC EXECUTION_START_DATE  \\\n",
       "0     G221   300009603.0  G221-CLR-A85-E06           2017-05-08   \n",
       "1     G221   300009603.0  G221-CLR-A85-E06           2017-05-08   \n",
       "2     G221   300009603.0  G221-CLR-A85-E06           2017-05-08   \n",
       "3     G221   300009603.0  G221-CLR-A85-E06           2017-05-08   \n",
       "4     G221   300009603.0  G221-CLR-A85-E06           2017-05-15   \n",
       "\n",
       "  EXECUTION_FINISH_DATE  ACTUAL_WORK_IN_MINUTES PREV_EXECUTION_FINISH_DATE  \\\n",
       "0            2017-05-08                    15.0                        NaT   \n",
       "1            2017-05-08                    45.0                 2017-05-08   \n",
       "2            2017-05-08                    30.0                 2017-05-08   \n",
       "3            2017-05-08                    60.0                 2017-05-08   \n",
       "4            2017-05-15                    30.0                 2017-05-08   \n",
       "\n",
       "   LIFE  MEAN_LIFESPAN  MEAN_TIME_MAINTENENCE EXPECTED_MAINTENANCE_DATE  \n",
       "0   NaN       1.788656               43.25587                2017-05-09  \n",
       "1   0.0       1.788656               43.25587                2017-05-09  \n",
       "2   0.0       1.788656               43.25587                2017-05-09  \n",
       "3   0.0       1.788656               43.25587                2017-05-09  \n",
       "4   7.0       1.788656               43.25587                2017-05-16  "
      ]
     },
     "execution_count": 176,
     "metadata": {},
     "output_type": "execute_result"
    }
   ],
   "source": [
    "df_lifespan.head()"
   ]
  },
  {
   "cell_type": "code",
   "execution_count": 178,
   "metadata": {},
   "outputs": [
    {
     "data": {
      "text/plain": [
       "<bound method Series.unique of 0         G221-CLR-A85-E06\n",
       "1         G221-CLR-A85-E06\n",
       "2         G221-CLR-A85-E06\n",
       "3         G221-CLR-A85-E06\n",
       "4         G221-CLR-A85-E06\n",
       "                ...       \n",
       "291372                 NaN\n",
       "291373                 NaN\n",
       "291374                 NaN\n",
       "291375                 NaN\n",
       "291376                 NaN\n",
       "Name: FUNCTIONAL_LOC, Length: 291377, dtype: object>"
      ]
     },
     "execution_count": 178,
     "metadata": {},
     "output_type": "execute_result"
    }
   ],
   "source": [
    "df_lifespan['FUNCTIONAL_LOC'].unique"
   ]
  },
  {
   "cell_type": "code",
   "execution_count": 168,
   "metadata": {},
   "outputs": [
    {
     "data": {
      "text/plain": [
       "41390656"
      ]
     },
     "execution_count": 168,
     "metadata": {},
     "output_type": "execute_result"
    }
   ],
   "source": [
    "df[df['EQUIPMENT_DESC'].notna()].size"
   ]
  },
  {
   "cell_type": "markdown",
   "metadata": {},
   "source": [
    "### By Functional Location"
   ]
  },
  {
   "cell_type": "code",
   "execution_count": 182,
   "metadata": {},
   "outputs": [],
   "source": [
    "selected_columns = ['EQUIPMENT_ID', 'FUNCTIONAL_LOC', 'EXECUTION_START_DATE', 'EXECUTION_FINISH_DATE', 'ACTUAL_WORK_IN_MINUTES']\n",
    "\n",
    "\n",
    "# filter rows with count of only 1\n",
    "df_filtered = df.groupby('EQUIPMENT_ID').filter(lambda x: len(x) > 1)[selected_columns]\n",
    "\n",
    "# Sort by PLANT_ID, EQUIPMENT_ID, and EXECUTION_START_DATE\n",
    "df_sorted = df_filtered.sort_values(['FUNCTIONAL_LOC', 'EQUIPMENT_ID', 'EXECUTION_START_DATE'])\n",
    "\n",
    "# Group by PLANT_ID and EQUIPMENT_ID\n",
    "df_sorted['PREV_EXECUTION_FINISH_DATE'] = df_sorted.groupby(['FUNCTIONAL_LOC'])['EXECUTION_FINISH_DATE'].shift(1)\n",
    "\n",
    "# Calculate the time difference (life) in days between consecutive EXECUTION_START_DATE and the previous EXECUTION_FINISH_DATE\n",
    "df_sorted['LIFE'] = (df_sorted['EXECUTION_START_DATE'] - df_sorted['PREV_EXECUTION_FINISH_DATE']).dt.days\n",
    "\n",
    "# Replace NaN with 0 for the first occurrence\n",
    "df_sorted['LIFE'] = df_sorted['LIFE'].fillna(pd.NA)\n",
    "\n",
    "# Select relevant columns\n",
    "result = df_sorted[['FUNCTIONAL_LOC', 'EXECUTION_START_DATE', 'EXECUTION_FINISH_DATE', 'ACTUAL_WORK_IN_MINUTES', 'LIFE']]\n",
    "\n",
    "# Calculate the average time between execution start and finish for each PLANT_ID and EQUIPMENT_ID\n",
    "#average_life = result.groupby(['PLANT_ID', 'FUNCTIONAL_AREA_NODE_3_MODIFIED', 'EQUIPMENT_ID'])['LIFE'].mean().reset_index(name='AVERAGE_LIFE')\n",
    "\n",
    "average_life = result.groupby('FUNCTIONAL_LOC').agg(\n",
    "        MEAN_LIFESPAN=('LIFE', 'mean'),\n",
    "        MEAN_TIME_MAINTENENCE=('ACTUAL_WORK_IN_MINUTES', 'mean')\n",
    ")"
   ]
  },
  {
   "cell_type": "code",
   "execution_count": 183,
   "metadata": {},
   "outputs": [],
   "source": [
    "df_lifespan = pd.merge(df_sorted, average_life, on=['FUNCTIONAL_LOC'], how='left')"
   ]
  },
  {
   "cell_type": "code",
   "execution_count": 184,
   "metadata": {},
   "outputs": [],
   "source": [
    "df_lifespan['EXPECTED_MAINTENANCE_DATE'] = (df_lifespan['EXECUTION_FINISH_DATE'] + pd.to_timedelta(df_lifespan['MEAN_LIFESPAN'], unit='D')).dt.date"
   ]
  },
  {
   "cell_type": "code",
   "execution_count": 185,
   "metadata": {},
   "outputs": [
    {
     "data": {
      "text/html": [
       "<div>\n",
       "<style scoped>\n",
       "    .dataframe tbody tr th:only-of-type {\n",
       "        vertical-align: middle;\n",
       "    }\n",
       "\n",
       "    .dataframe tbody tr th {\n",
       "        vertical-align: top;\n",
       "    }\n",
       "\n",
       "    .dataframe thead th {\n",
       "        text-align: right;\n",
       "    }\n",
       "</style>\n",
       "<table border=\"1\" class=\"dataframe\">\n",
       "  <thead>\n",
       "    <tr style=\"text-align: right;\">\n",
       "      <th></th>\n",
       "      <th>EQUIPMENT_ID</th>\n",
       "      <th>FUNCTIONAL_LOC</th>\n",
       "      <th>EXECUTION_START_DATE</th>\n",
       "      <th>EXECUTION_FINISH_DATE</th>\n",
       "      <th>ACTUAL_WORK_IN_MINUTES</th>\n",
       "      <th>PREV_EXECUTION_FINISH_DATE</th>\n",
       "      <th>LIFE</th>\n",
       "      <th>MEAN_LIFESPAN</th>\n",
       "      <th>MEAN_TIME_MAINTENENCE</th>\n",
       "      <th>EXPECTED_MAINTENANCE_DATE</th>\n",
       "    </tr>\n",
       "  </thead>\n",
       "  <tbody>\n",
       "    <tr>\n",
       "      <th>0</th>\n",
       "      <td>300009603.0</td>\n",
       "      <td>G221-CLR-A85-E06</td>\n",
       "      <td>2017-05-08</td>\n",
       "      <td>2017-05-08</td>\n",
       "      <td>15.0</td>\n",
       "      <td>NaT</td>\n",
       "      <td>NaN</td>\n",
       "      <td>0.980726</td>\n",
       "      <td>39.677584</td>\n",
       "      <td>2017-05-08</td>\n",
       "    </tr>\n",
       "    <tr>\n",
       "      <th>1</th>\n",
       "      <td>300009603.0</td>\n",
       "      <td>G221-CLR-A85-E06</td>\n",
       "      <td>2017-05-08</td>\n",
       "      <td>2017-05-08</td>\n",
       "      <td>45.0</td>\n",
       "      <td>2017-05-08</td>\n",
       "      <td>0.0</td>\n",
       "      <td>0.980726</td>\n",
       "      <td>39.677584</td>\n",
       "      <td>2017-05-08</td>\n",
       "    </tr>\n",
       "    <tr>\n",
       "      <th>2</th>\n",
       "      <td>300009603.0</td>\n",
       "      <td>G221-CLR-A85-E06</td>\n",
       "      <td>2017-05-08</td>\n",
       "      <td>2017-05-08</td>\n",
       "      <td>30.0</td>\n",
       "      <td>2017-05-08</td>\n",
       "      <td>0.0</td>\n",
       "      <td>0.980726</td>\n",
       "      <td>39.677584</td>\n",
       "      <td>2017-05-08</td>\n",
       "    </tr>\n",
       "    <tr>\n",
       "      <th>3</th>\n",
       "      <td>300009603.0</td>\n",
       "      <td>G221-CLR-A85-E06</td>\n",
       "      <td>2017-05-08</td>\n",
       "      <td>2017-05-08</td>\n",
       "      <td>60.0</td>\n",
       "      <td>2017-05-08</td>\n",
       "      <td>0.0</td>\n",
       "      <td>0.980726</td>\n",
       "      <td>39.677584</td>\n",
       "      <td>2017-05-08</td>\n",
       "    </tr>\n",
       "    <tr>\n",
       "      <th>4</th>\n",
       "      <td>300009603.0</td>\n",
       "      <td>G221-CLR-A85-E06</td>\n",
       "      <td>2017-05-15</td>\n",
       "      <td>2017-05-15</td>\n",
       "      <td>30.0</td>\n",
       "      <td>2017-05-08</td>\n",
       "      <td>7.0</td>\n",
       "      <td>0.980726</td>\n",
       "      <td>39.677584</td>\n",
       "      <td>2017-05-15</td>\n",
       "    </tr>\n",
       "  </tbody>\n",
       "</table>\n",
       "</div>"
      ],
      "text/plain": [
       "   EQUIPMENT_ID    FUNCTIONAL_LOC EXECUTION_START_DATE EXECUTION_FINISH_DATE  \\\n",
       "0   300009603.0  G221-CLR-A85-E06           2017-05-08            2017-05-08   \n",
       "1   300009603.0  G221-CLR-A85-E06           2017-05-08            2017-05-08   \n",
       "2   300009603.0  G221-CLR-A85-E06           2017-05-08            2017-05-08   \n",
       "3   300009603.0  G221-CLR-A85-E06           2017-05-08            2017-05-08   \n",
       "4   300009603.0  G221-CLR-A85-E06           2017-05-15            2017-05-15   \n",
       "\n",
       "   ACTUAL_WORK_IN_MINUTES PREV_EXECUTION_FINISH_DATE  LIFE  MEAN_LIFESPAN  \\\n",
       "0                    15.0                        NaT   NaN       0.980726   \n",
       "1                    45.0                 2017-05-08   0.0       0.980726   \n",
       "2                    30.0                 2017-05-08   0.0       0.980726   \n",
       "3                    60.0                 2017-05-08   0.0       0.980726   \n",
       "4                    30.0                 2017-05-08   7.0       0.980726   \n",
       "\n",
       "   MEAN_TIME_MAINTENENCE EXPECTED_MAINTENANCE_DATE  \n",
       "0              39.677584                2017-05-08  \n",
       "1              39.677584                2017-05-08  \n",
       "2              39.677584                2017-05-08  \n",
       "3              39.677584                2017-05-08  \n",
       "4              39.677584                2017-05-15  "
      ]
     },
     "execution_count": 185,
     "metadata": {},
     "output_type": "execute_result"
    }
   ],
   "source": [
    "df_lifespan.head()"
   ]
  },
  {
   "cell_type": "code",
   "execution_count": 186,
   "metadata": {},
   "outputs": [
    {
     "data": {
      "text/plain": [
       "2913770"
      ]
     },
     "execution_count": 186,
     "metadata": {},
     "output_type": "execute_result"
    }
   ],
   "source": [
    "df_lifespan.size"
   ]
  },
  {
   "cell_type": "code",
   "execution_count": 187,
   "metadata": {},
   "outputs": [
    {
     "data": {
      "text/plain": [
       "41390656"
      ]
     },
     "execution_count": 187,
     "metadata": {},
     "output_type": "execute_result"
    }
   ],
   "source": [
    "df.size"
   ]
  },
  {
   "cell_type": "code",
   "execution_count": 210,
   "metadata": {},
   "outputs": [],
   "source": [
    "df_lifespan['EXPECTED_MAINTENANCE_DATE'] = pd.to_datetime(df_lifespan['EXPECTED_MAINTENANCE_DATE'])\n",
    "\n",
    "df_lifespan['ACTUAL_NEXT_MAINTENACE'] = pd.to_datetime(df_lifespan.groupby(['FUNCTIONAL_LOC'])['EXECUTION_START_DATE'].shift(-1))\n",
    "df_lifespan['EXPECTED_DIFFERENCE'] = (df_lifespan['EXPECTED_MAINTENANCE_DATE'] - df_lifespan['ACTUAL_NEXT_MAINTENACE']).dt.days"
   ]
  },
  {
   "cell_type": "code",
   "execution_count": 211,
   "metadata": {},
   "outputs": [
    {
     "data": {
      "text/html": [
       "<div>\n",
       "<style scoped>\n",
       "    .dataframe tbody tr th:only-of-type {\n",
       "        vertical-align: middle;\n",
       "    }\n",
       "\n",
       "    .dataframe tbody tr th {\n",
       "        vertical-align: top;\n",
       "    }\n",
       "\n",
       "    .dataframe thead th {\n",
       "        text-align: right;\n",
       "    }\n",
       "</style>\n",
       "<table border=\"1\" class=\"dataframe\">\n",
       "  <thead>\n",
       "    <tr style=\"text-align: right;\">\n",
       "      <th></th>\n",
       "      <th>EQUIPMENT_ID</th>\n",
       "      <th>FUNCTIONAL_LOC</th>\n",
       "      <th>EXECUTION_START_DATE</th>\n",
       "      <th>EXECUTION_FINISH_DATE</th>\n",
       "      <th>ACTUAL_WORK_IN_MINUTES</th>\n",
       "      <th>PREV_EXECUTION_FINISH_DATE</th>\n",
       "      <th>LIFE</th>\n",
       "      <th>MEAN_LIFESPAN</th>\n",
       "      <th>MEAN_TIME_MAINTENENCE</th>\n",
       "      <th>EXPECTED_MAINTENANCE_DATE</th>\n",
       "      <th>ACTUAL_NEXT_MAINTENACE</th>\n",
       "      <th>EXPECTED_DIFFERENCE</th>\n",
       "    </tr>\n",
       "  </thead>\n",
       "  <tbody>\n",
       "    <tr>\n",
       "      <th>0</th>\n",
       "      <td>300009603.0</td>\n",
       "      <td>G221-CLR-A85-E06</td>\n",
       "      <td>2017-05-08</td>\n",
       "      <td>2017-05-08</td>\n",
       "      <td>15.0</td>\n",
       "      <td>NaT</td>\n",
       "      <td>NaN</td>\n",
       "      <td>0.980726</td>\n",
       "      <td>39.677584</td>\n",
       "      <td>2017-05-08</td>\n",
       "      <td>2017-05-08</td>\n",
       "      <td>0.0</td>\n",
       "    </tr>\n",
       "    <tr>\n",
       "      <th>1</th>\n",
       "      <td>300009603.0</td>\n",
       "      <td>G221-CLR-A85-E06</td>\n",
       "      <td>2017-05-08</td>\n",
       "      <td>2017-05-08</td>\n",
       "      <td>45.0</td>\n",
       "      <td>2017-05-08</td>\n",
       "      <td>0.0</td>\n",
       "      <td>0.980726</td>\n",
       "      <td>39.677584</td>\n",
       "      <td>2017-05-08</td>\n",
       "      <td>2017-05-08</td>\n",
       "      <td>0.0</td>\n",
       "    </tr>\n",
       "    <tr>\n",
       "      <th>2</th>\n",
       "      <td>300009603.0</td>\n",
       "      <td>G221-CLR-A85-E06</td>\n",
       "      <td>2017-05-08</td>\n",
       "      <td>2017-05-08</td>\n",
       "      <td>30.0</td>\n",
       "      <td>2017-05-08</td>\n",
       "      <td>0.0</td>\n",
       "      <td>0.980726</td>\n",
       "      <td>39.677584</td>\n",
       "      <td>2017-05-08</td>\n",
       "      <td>2017-05-08</td>\n",
       "      <td>0.0</td>\n",
       "    </tr>\n",
       "    <tr>\n",
       "      <th>3</th>\n",
       "      <td>300009603.0</td>\n",
       "      <td>G221-CLR-A85-E06</td>\n",
       "      <td>2017-05-08</td>\n",
       "      <td>2017-05-08</td>\n",
       "      <td>60.0</td>\n",
       "      <td>2017-05-08</td>\n",
       "      <td>0.0</td>\n",
       "      <td>0.980726</td>\n",
       "      <td>39.677584</td>\n",
       "      <td>2017-05-08</td>\n",
       "      <td>2017-05-15</td>\n",
       "      <td>-7.0</td>\n",
       "    </tr>\n",
       "    <tr>\n",
       "      <th>4</th>\n",
       "      <td>300009603.0</td>\n",
       "      <td>G221-CLR-A85-E06</td>\n",
       "      <td>2017-05-15</td>\n",
       "      <td>2017-05-15</td>\n",
       "      <td>30.0</td>\n",
       "      <td>2017-05-08</td>\n",
       "      <td>7.0</td>\n",
       "      <td>0.980726</td>\n",
       "      <td>39.677584</td>\n",
       "      <td>2017-05-15</td>\n",
       "      <td>2017-05-15</td>\n",
       "      <td>0.0</td>\n",
       "    </tr>\n",
       "  </tbody>\n",
       "</table>\n",
       "</div>"
      ],
      "text/plain": [
       "   EQUIPMENT_ID    FUNCTIONAL_LOC EXECUTION_START_DATE EXECUTION_FINISH_DATE  \\\n",
       "0   300009603.0  G221-CLR-A85-E06           2017-05-08            2017-05-08   \n",
       "1   300009603.0  G221-CLR-A85-E06           2017-05-08            2017-05-08   \n",
       "2   300009603.0  G221-CLR-A85-E06           2017-05-08            2017-05-08   \n",
       "3   300009603.0  G221-CLR-A85-E06           2017-05-08            2017-05-08   \n",
       "4   300009603.0  G221-CLR-A85-E06           2017-05-15            2017-05-15   \n",
       "\n",
       "   ACTUAL_WORK_IN_MINUTES PREV_EXECUTION_FINISH_DATE  LIFE  MEAN_LIFESPAN  \\\n",
       "0                    15.0                        NaT   NaN       0.980726   \n",
       "1                    45.0                 2017-05-08   0.0       0.980726   \n",
       "2                    30.0                 2017-05-08   0.0       0.980726   \n",
       "3                    60.0                 2017-05-08   0.0       0.980726   \n",
       "4                    30.0                 2017-05-08   7.0       0.980726   \n",
       "\n",
       "   MEAN_TIME_MAINTENENCE EXPECTED_MAINTENANCE_DATE ACTUAL_NEXT_MAINTENACE  \\\n",
       "0              39.677584                2017-05-08             2017-05-08   \n",
       "1              39.677584                2017-05-08             2017-05-08   \n",
       "2              39.677584                2017-05-08             2017-05-08   \n",
       "3              39.677584                2017-05-08             2017-05-15   \n",
       "4              39.677584                2017-05-15             2017-05-15   \n",
       "\n",
       "   EXPECTED_DIFFERENCE  \n",
       "0                  0.0  \n",
       "1                  0.0  \n",
       "2                  0.0  \n",
       "3                 -7.0  \n",
       "4                  0.0  "
      ]
     },
     "execution_count": 211,
     "metadata": {},
     "output_type": "execute_result"
    }
   ],
   "source": [
    "df_lifespan.head()"
   ]
  },
  {
   "cell_type": "code",
   "execution_count": 219,
   "metadata": {},
   "outputs": [
    {
     "data": {
      "text/plain": [
       "-0.5511963236609293"
      ]
     },
     "execution_count": 219,
     "metadata": {},
     "output_type": "execute_result"
    }
   ],
   "source": [
    "float(df_lifespan['EXPECTED_DIFFERENCE'].mean())"
   ]
  },
  {
   "cell_type": "markdown",
   "metadata": {},
   "source": [
    "## TO DO\n",
    "Add line to df_lifespan ('FUNCTIONAL_AREA_NODE_3_MODIFIED'), then add longest job for a start date on that line. This should provide the opportunity to put jobs under the longest maintenance period."
   ]
  },
  {
   "cell_type": "code",
   "execution_count": null,
   "metadata": {},
   "outputs": [],
   "source": []
  },
  {
   "cell_type": "code",
   "execution_count": 224,
   "metadata": {},
   "outputs": [
    {
     "name": "stdout",
     "output_type": "stream",
     "text": [
      "Optimal total maintenance time: 26083830.52043734\n",
      "Optimal simulation index: 67\n"
     ]
    },
    {
     "data": {
      "image/png": "[encoded data removed]",
      "text/plain": [
       "<Figure size 640x480 with 1 Axes>"
      ]
     },
     "metadata": {},
     "output_type": "display_data"
    }
   ],
   "source": [
    "import numpy as np\n",
    "\n",
    "# Parameters\n",
    "num_simulations = 100  # Number of Monte Carlo simulations\n",
    "num_jobs = len(df_lifespan)  # Number of jobs to schedule\n",
    "\n",
    "# Create a placeholder for the simulation results\n",
    "sim_results = []\n",
    "\n",
    "# Monte Carlo simulation loop\n",
    "for i in range(num_simulations):\n",
    "    # Simulate the random 'LIFE' and 'MAINTENANCE TIME' for each job\n",
    "    df_lifespan['SIMULATED_LIFE'] = np.random.normal(df_lifespan['MEAN_LIFESPAN'], 0.2)  # Example: normal distribution with a standard deviation of 0.2\n",
    "    df_lifespan['SIMULATED_MAINTENANCE_TIME'] = np.random.normal(df_lifespan['MEAN_TIME_MAINTENENCE'], 5)  # Example: normal distribution with a standard deviation of 5\n",
    "    \n",
    "    # Simulate start dates based on the simulated life span\n",
    "    df_lifespan['SIMULATED_START_DATE'] = df_lifespan['EXECUTION_START_DATE'] + pd.to_timedelta(df_lifespan['SIMULATED_LIFE'], unit='D')\n",
    "    \n",
    "    # Calculate total downtime (or any other KPI you want to optimize)\n",
    "    total_maintenance_time = df_lifespan['SIMULATED_MAINTENANCE_TIME'].sum()\n",
    "    sim_results.append(total_maintenance_time)\n",
    "\n",
    "# Convert results into a DataFrame\n",
    "sim_results_df = pd.DataFrame(sim_results, columns=['Total_Maintenance_Time'])\n",
    "\n",
    "# Analyze the simulation results\n",
    "optimal_schedule = sim_results_df['Total_Maintenance_Time'].min()  # Example: minimize total maintenance time\n",
    "optimal_simulation = sim_results_df[sim_results_df['Total_Maintenance_Time'] == optimal_schedule].index[0]\n",
    "\n",
    "print(f\"Optimal total maintenance time: {optimal_schedule}\")\n",
    "print(f\"Optimal simulation index: {optimal_simulation}\")\n",
    "\n",
    "# Plot the distribution of total maintenance times\n",
    "plt.hist(sim_results_df['Total_Maintenance_Time'], bins=50, alpha=0.7, color='blue')\n",
    "plt.title('Distribution of Total Maintenance Time Across Simulations')\n",
    "plt.xlabel('Total Maintenance Time')\n",
    "plt.ylabel('Frequency')\n",
    "plt.show()"
   ]
  },
  {
   "cell_type": "code",
   "execution_count": 223,
   "metadata": {},
   "outputs": [
    {
     "name": "stdout",
     "output_type": "stream",
     "text": [
      "Optimal total maintenance time: 4651697.127799769\n",
      "Optimal simulation index: 130\n"
     ]
    },
    {
     "data": {
      "image/png": "[encoded data removed]",
      "text/plain": [
       "<Figure size 1000x600 with 1 Axes>"
      ]
     },
     "metadata": {},
     "output_type": "display_data"
    }
   ],
   "source": [
    "# Define the date range (e.g., simulate the past year)\n",
    "one_year_ago = pd.Timestamp.today() - pd.DateOffset(years=1)\n",
    "\n",
    "# Filter the DataFrame to include only jobs from the past year\n",
    "df_lifespan_filtered = df_lifespan[df_lifespan['EXECUTION_START_DATE'] >= one_year_ago].copy()\n",
    "\n",
    "# Parameters\n",
    "num_simulations = 1000  # Number of Monte Carlo simulations\n",
    "num_jobs = len(df_lifespan_filtered)  # Number of jobs in the past year\n",
    "\n",
    "# Create a placeholder for the simulation results\n",
    "sim_results = []\n",
    "\n",
    "# Monte Carlo simulation loop\n",
    "for i in range(num_simulations):\n",
    "    # Simulate the random 'LIFE' and 'MAINTENANCE TIME' for each job in the past year\n",
    "    df_lifespan_filtered['SIMULATED_LIFE'] = np.random.normal(df_lifespan_filtered['MEAN_LIFESPAN'], 0.2)  # Simulated lifespan\n",
    "    df_lifespan_filtered['SIMULATED_MAINTENANCE_TIME'] = np.random.normal(df_lifespan_filtered['MEAN_TIME_MAINTENENCE'], 5)  # Simulated maintenance time\n",
    "    \n",
    "    # Simulate the next job start dates based on the random 'SIMULATED_LIFE'\n",
    "    df_lifespan_filtered['SIMULATED_START_DATE'] = df_lifespan_filtered['EXECUTION_START_DATE'] + pd.to_timedelta(df_lifespan_filtered['SIMULATED_LIFE'], unit='D')\n",
    "    \n",
    "    # Calculate the total downtime or total maintenance time for each simulation\n",
    "    total_maintenance_time = df_lifespan_filtered['SIMULATED_MAINTENANCE_TIME'].sum()\n",
    "    \n",
    "    # Store the result of this simulation\n",
    "    sim_results.append(total_maintenance_time)\n",
    "\n",
    "# Convert results into a DataFrame\n",
    "sim_results_df = pd.DataFrame(sim_results, columns=['Total_Maintenance_Time'])\n",
    "\n",
    "# Analyze the simulation results\n",
    "optimal_schedule = sim_results_df['Total_Maintenance_Time'].min()  # Find the optimal schedule that minimizes total maintenance time\n",
    "optimal_simulation = sim_results_df[sim_results_df['Total_Maintenance_Time'] == optimal_schedule].index[0]\n",
    "\n",
    "print(f\"Optimal total maintenance time: {optimal_schedule}\")\n",
    "print(f\"Optimal simulation index: {optimal_simulation}\")\n",
    "\n",
    "# Plot the distribution of total maintenance times\n",
    "plt.figure(figsize=(10, 6))\n",
    "plt.hist(sim_results_df['Total_Maintenance_Time'], bins=50, alpha=0.7, color='blue')\n",
    "plt.title('Distribution of Total Maintenance Time (Past Year)')\n",
    "plt.xlabel('Total Maintenance Time')\n",
    "plt.ylabel('Frequency')\n",
    "plt.show()\n"
   ]
  },
  {
   "cell_type": "code",
   "execution_count": 227,
   "metadata": {},
   "outputs": [
    {
     "ename": "IndexError",
     "evalue": "index 0 is out of bounds for axis 0 with size 0",
     "output_type": "error",
     "traceback": [
      "\u001b[0;31m---------------------------------------------------------------------------\u001b[0m",
      "\u001b[0;31mIndexError\u001b[0m                                Traceback (most recent call last)",
      "Cell \u001b[0;32mIn[227], line 74\u001b[0m\n\u001b[1;32m     72\u001b[0m \u001b[38;5;66;03m# Analyze the simulation results\u001b[39;00m\n\u001b[1;32m     73\u001b[0m optimal_schedule \u001b[38;5;241m=\u001b[39m sim_results_df[\u001b[38;5;124m'\u001b[39m\u001b[38;5;124mTotal_Maintenance_Time\u001b[39m\u001b[38;5;124m'\u001b[39m]\u001b[38;5;241m.\u001b[39mmin()  \u001b[38;5;66;03m# Find the optimal schedule that minimizes total maintenance time\u001b[39;00m\n\u001b[0;32m---> 74\u001b[0m optimal_simulation \u001b[38;5;241m=\u001b[39m \u001b[43msim_results_df\u001b[49m\u001b[43m[\u001b[49m\u001b[43msim_results_df\u001b[49m\u001b[43m[\u001b[49m\u001b[38;5;124;43m'\u001b[39;49m\u001b[38;5;124;43mTotal_Maintenance_Time\u001b[39;49m\u001b[38;5;124;43m'\u001b[39;49m\u001b[43m]\u001b[49m\u001b[43m \u001b[49m\u001b[38;5;241;43m==\u001b[39;49m\u001b[43m \u001b[49m\u001b[43moptimal_schedule\u001b[49m\u001b[43m]\u001b[49m\u001b[38;5;241;43m.\u001b[39;49m\u001b[43mindex\u001b[49m\u001b[43m[\u001b[49m\u001b[38;5;241;43m0\u001b[39;49m\u001b[43m]\u001b[49m\n\u001b[1;32m     76\u001b[0m \u001b[38;5;28mprint\u001b[39m(\u001b[38;5;124mf\u001b[39m\u001b[38;5;124m\"\u001b[39m\u001b[38;5;124mOptimal total maintenance time: \u001b[39m\u001b[38;5;132;01m{\u001b[39;00moptimal_schedule\u001b[38;5;132;01m}\u001b[39;00m\u001b[38;5;124m\"\u001b[39m)\n\u001b[1;32m     77\u001b[0m \u001b[38;5;28mprint\u001b[39m(\u001b[38;5;124mf\u001b[39m\u001b[38;5;124m\"\u001b[39m\u001b[38;5;124mOptimal simulation index: \u001b[39m\u001b[38;5;132;01m{\u001b[39;00moptimal_simulation\u001b[38;5;132;01m}\u001b[39;00m\u001b[38;5;124m\"\u001b[39m)\n",
      "File \u001b[0;32m/Library/Frameworks/Python.framework/Versions/3.12/lib/python3.12/site-packages/pandas/core/indexes/base.py:5389\u001b[0m, in \u001b[0;36mIndex.__getitem__\u001b[0;34m(self, key)\u001b[0m\n\u001b[1;32m   5386\u001b[0m \u001b[38;5;28;01mif\u001b[39;00m is_integer(key) \u001b[38;5;129;01mor\u001b[39;00m is_float(key):\n\u001b[1;32m   5387\u001b[0m     \u001b[38;5;66;03m# GH#44051 exclude bool, which would return a 2d ndarray\u001b[39;00m\n\u001b[1;32m   5388\u001b[0m     key \u001b[38;5;241m=\u001b[39m com\u001b[38;5;241m.\u001b[39mcast_scalar_indexer(key)\n\u001b[0;32m-> 5389\u001b[0m     \u001b[38;5;28;01mreturn\u001b[39;00m \u001b[43mgetitem\u001b[49m\u001b[43m(\u001b[49m\u001b[43mkey\u001b[49m\u001b[43m)\u001b[49m\n\u001b[1;32m   5391\u001b[0m \u001b[38;5;28;01mif\u001b[39;00m \u001b[38;5;28misinstance\u001b[39m(key, \u001b[38;5;28mslice\u001b[39m):\n\u001b[1;32m   5392\u001b[0m     \u001b[38;5;66;03m# This case is separated from the conditional above to avoid\u001b[39;00m\n\u001b[1;32m   5393\u001b[0m     \u001b[38;5;66;03m# pessimization com.is_bool_indexer and ndim checks.\u001b[39;00m\n\u001b[1;32m   5394\u001b[0m     \u001b[38;5;28;01mreturn\u001b[39;00m \u001b[38;5;28mself\u001b[39m\u001b[38;5;241m.\u001b[39m_getitem_slice(key)\n",
      "\u001b[0;31mIndexError\u001b[0m: index 0 is out of bounds for axis 0 with size 0"
     ]
    }
   ],
   "source": [
    "import numpy as np\n",
    "import pandas as pd\n",
    "import matplotlib.pyplot as plt\n",
    "\n",
    "# Define the date range (e.g., simulate the past year)\n",
    "one_year_ago = pd.Timestamp.today() - pd.DateOffset(years=1)\n",
    "\n",
    "# Filter the DataFrame to include only jobs from the past year\n",
    "df_lifespan_filtered = df_lifespan[df_lifespan['EXECUTION_START_DATE'] >= one_year_ago].copy()\n",
    "\n",
    "# Parameters\n",
    "num_simulations = 10  # Number of Monte Carlo simulations\n",
    "num_jobs = len(df_lifespan_filtered)  # Number of jobs in the past year\n",
    "stacking_threshold_days = 30  # Jobs within 30 days will be stacked\n",
    "\n",
    "# Create a placeholder for the simulation results\n",
    "sim_results = []\n",
    "time_saved_results = []\n",
    "\n",
    "# Monte Carlo simulation loop\n",
    "for i in range(num_simulations):\n",
    "    # Simulate the random 'LIFE' and 'MAINTENANCE TIME' for each job in the past year\n",
    "    df_lifespan_filtered['SIMULATED_LIFE'] = np.random.normal(df_lifespan_filtered['MEAN_LIFESPAN'], 0.2)  # Simulated lifespan\n",
    "    df_lifespan_filtered['SIMULATED_MAINTENANCE_TIME'] = np.random.normal(df_lifespan_filtered['MEAN_TIME_MAINTENENCE'], 5)  # Simulated maintenance time\n",
    "    \n",
    "    # Simulate the next job start dates based on the random 'SIMULATED_LIFE'\n",
    "    df_lifespan_filtered['SIMULATED_START_DATE'] = df_lifespan_filtered['EXECUTION_START_DATE'] + pd.to_timedelta(df_lifespan_filtered['SIMULATED_LIFE'], unit='D')\n",
    "    \n",
    "    # Sort jobs by FUNCTIONAL_LOC and SIMULATED_START_DATE to group jobs in the same location\n",
    "    df_lifespan_filtered = df_lifespan_filtered.sort_values(['FUNCTIONAL_LOC', 'SIMULATED_START_DATE'])\n",
    "    \n",
    "    # Initialize variables to track total maintenance time and time saved\n",
    "    total_maintenance_time = 0\n",
    "    time_saved = 0\n",
    "    \n",
    "    # Iterate over each job and stack jobs where possible\n",
    "    for idx, row in df_lifespan_filtered.iterrows():\n",
    "        # Check for upcoming jobs in the same FUNCTIONAL_LOC within the next 30 days\n",
    "        future_jobs = df_lifespan_filtered[\n",
    "            (df_lifespan_filtered['FUNCTIONAL_LOC'] == row['FUNCTIONAL_LOC']) &\n",
    "            (df_lifespan_filtered['SIMULATED_START_DATE'] > row['SIMULATED_START_DATE']) &\n",
    "            (df_lifespan_filtered['SIMULATED_START_DATE'] <= row['SIMULATED_START_DATE'] + pd.Timedelta(days=stacking_threshold_days))\n",
    "        ]\n",
    "        \n",
    "        # Stack future jobs into the current job\n",
    "        if not future_jobs.empty:\n",
    "            # Combine the maintenance time of all stacked jobs\n",
    "            stacked_maintenance_time = row['SIMULATED_MAINTENANCE_TIME'] + future_jobs['SIMULATED_MAINTENANCE_TIME'].sum()\n",
    "            \n",
    "            # Save the time difference (stacked jobs are done together, saving time)\n",
    "            time_saved += future_jobs['SIMULATED_MAINTENANCE_TIME'].sum()\n",
    "            \n",
    "            # Remove future jobs (as they are now stacked and handled in the current job)\n",
    "            df_lifespan_filtered = df_lifespan_filtered.drop(future_jobs.index)\n",
    "            \n",
    "            # Update total maintenance time for the stacked jobs\n",
    "            total_maintenance_time += stacked_maintenance_time\n",
    "        else:\n",
    "            # No stacking, add the current job's maintenance time\n",
    "            total_maintenance_time += row['SIMULATED_MAINTENANCE_TIME']\n",
    "    \n",
    "    # Store the result of this simulation\n",
    "    sim_results.append(total_maintenance_time)\n",
    "    time_saved_results.append(time_saved)\n",
    "\n",
    "# Convert results into a DataFrame\n",
    "sim_results_df = pd.DataFrame({\n",
    "    'Total_Maintenance_Time': sim_results,\n",
    "    'Time_Saved': time_saved_results\n",
    "})\n",
    "\n",
    "# Analyze the simulation results\n",
    "optimal_schedule = sim_results_df['Total_Maintenance_Time'].min()  # Find the optimal schedule that minimizes total maintenance time\n",
    "optimal_simulation = sim_results_df[sim_results_df['Total_Maintenance_Time'] == optimal_schedule].index[0]\n",
    "\n",
    "print(f\"Optimal total maintenance time: {optimal_schedule}\")\n",
    "print(f\"Optimal simulation index: {optimal_simulation}\")\n",
    "print(f\"Time saved in optimal simulation: {sim_results_df.loc[optimal_simulation, 'Time_Saved']}\")\n",
    "\n",
    "# Plot the distribution of total maintenance times and time saved\n",
    "plt.figure(figsize=(12, 6))\n",
    "\n",
    "plt.subplot(1, 2, 1)\n",
    "plt.hist(sim_results_df['Total_Maintenance_Time'], bins=50, alpha=0.7, color='blue')\n",
    "plt.title('Distribution of Total Maintenance Time (Past Year)')\n",
    "plt.xlabel('Total Maintenance Time')\n",
    "plt.ylabel('Frequency')\n",
    "\n",
    "plt.subplot(1, 2, 2)\n",
    "plt.hist(sim_results_df['Time_Saved'], bins=50, alpha=0.7, color='green')\n",
    "plt.title('Distribution of Time Saved by Stacking Jobs')\n",
    "plt.xlabel('Time Saved (Minutes)')\n",
    "plt.ylabel('Frequency')\n",
    "\n",
    "plt.tight_layout()\n",
    "plt.show()\n"
   ]
  },
  {
   "cell_type": "code",
   "execution_count": 228,
   "metadata": {},
   "outputs": [
    {
     "name": "stdout",
     "output_type": "stream",
     "text": [
      "No optimal simulation found.\n"
     ]
    }
   ],
   "source": [
    "# Analyze the simulation results\n",
    "optimal_schedule = sim_results_df['Total_Maintenance_Time'].min()  # Find the optimal schedule that minimizes total maintenance time\n",
    "\n",
    "# Ensure there are matching rows for the optimal schedule\n",
    "optimal_simulation_rows = sim_results_df[sim_results_df['Total_Maintenance_Time'] == optimal_schedule]\n",
    "\n",
    "# Check if there are any rows matching the optimal schedule\n",
    "if not optimal_simulation_rows.empty:\n",
    "    optimal_simulation = optimal_simulation_rows.index[0]  # Get the first index of the matching rows\n",
    "    print(f\"Optimal total maintenance time: {optimal_schedule}\")\n",
    "    print(f\"Optimal simulation index: {optimal_simulation}\")\n",
    "    print(f\"Time saved in optimal simulation: {sim_results_df.loc[optimal_simulation, 'Time_Saved']}\")\n",
    "else:\n",
    "    print(\"No optimal simulation found.\")\n"
   ]
  },
  {
   "cell_type": "code",
   "execution_count": 229,
   "metadata": {},
   "outputs": [
    {
     "data": {
      "text/html": [
       "<div>\n",
       "<style scoped>\n",
       "    .dataframe tbody tr th:only-of-type {\n",
       "        vertical-align: middle;\n",
       "    }\n",
       "\n",
       "    .dataframe tbody tr th {\n",
       "        vertical-align: top;\n",
       "    }\n",
       "\n",
       "    .dataframe thead th {\n",
       "        text-align: right;\n",
       "    }\n",
       "</style>\n",
       "<table border=\"1\" class=\"dataframe\">\n",
       "  <thead>\n",
       "    <tr style=\"text-align: right;\">\n",
       "      <th></th>\n",
       "      <th>Total_Maintenance_Time</th>\n",
       "      <th>Time_Saved</th>\n",
       "    </tr>\n",
       "  </thead>\n",
       "  <tbody>\n",
       "    <tr>\n",
       "      <th>0</th>\n",
       "      <td>NaN</td>\n",
       "      <td>4.501859e+06</td>\n",
       "    </tr>\n",
       "    <tr>\n",
       "      <th>1</th>\n",
       "      <td>NaN</td>\n",
       "      <td>0.000000e+00</td>\n",
       "    </tr>\n",
       "    <tr>\n",
       "      <th>2</th>\n",
       "      <td>NaN</td>\n",
       "      <td>0.000000e+00</td>\n",
       "    </tr>\n",
       "    <tr>\n",
       "      <th>3</th>\n",
       "      <td>NaN</td>\n",
       "      <td>0.000000e+00</td>\n",
       "    </tr>\n",
       "    <tr>\n",
       "      <th>4</th>\n",
       "      <td>NaN</td>\n",
       "      <td>0.000000e+00</td>\n",
       "    </tr>\n",
       "    <tr>\n",
       "      <th>5</th>\n",
       "      <td>NaN</td>\n",
       "      <td>0.000000e+00</td>\n",
       "    </tr>\n",
       "    <tr>\n",
       "      <th>6</th>\n",
       "      <td>NaN</td>\n",
       "      <td>0.000000e+00</td>\n",
       "    </tr>\n",
       "    <tr>\n",
       "      <th>7</th>\n",
       "      <td>NaN</td>\n",
       "      <td>0.000000e+00</td>\n",
       "    </tr>\n",
       "    <tr>\n",
       "      <th>8</th>\n",
       "      <td>NaN</td>\n",
       "      <td>0.000000e+00</td>\n",
       "    </tr>\n",
       "    <tr>\n",
       "      <th>9</th>\n",
       "      <td>NaN</td>\n",
       "      <td>0.000000e+00</td>\n",
       "    </tr>\n",
       "  </tbody>\n",
       "</table>\n",
       "</div>"
      ],
      "text/plain": [
       "   Total_Maintenance_Time    Time_Saved\n",
       "0                     NaN  4.501859e+06\n",
       "1                     NaN  0.000000e+00\n",
       "2                     NaN  0.000000e+00\n",
       "3                     NaN  0.000000e+00\n",
       "4                     NaN  0.000000e+00\n",
       "5                     NaN  0.000000e+00\n",
       "6                     NaN  0.000000e+00\n",
       "7                     NaN  0.000000e+00\n",
       "8                     NaN  0.000000e+00\n",
       "9                     NaN  0.000000e+00"
      ]
     },
     "execution_count": 229,
     "metadata": {},
     "output_type": "execute_result"
    }
   ],
   "source": [
    "sim_results_df"
   ]
  }
 ],
 "metadata": {
  "kernelspec": {
   "display_name": "Python 3",
   "language": "python",
   "name": "python3"
  },
  "language_info": {
   "codemirror_mode": {
    "name": "ipython",
    "version": 3
   },
   "file_extension": ".py",
   "mimetype": "text/x-python",
   "name": "python",
   "nbconvert_exporter": "python",
   "pygments_lexer": "ipython3",
   "version": "3.12.5"
  }
 },
 "nbformat": 4,
 "nbformat_minor": 2
}
